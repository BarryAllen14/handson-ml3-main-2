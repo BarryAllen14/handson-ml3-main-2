{
 "cells": [
  {
   "cell_type": "code",
   "execution_count": 1,
   "metadata": {},
   "outputs": [],
   "source": [
    "import matplotlib.pyplot as plt\n",
    "\n",
    "plt.rc('font', size=14)\n",
    "plt.rc('axes', labelsize=14, titlesize=14)\n",
    "plt.rc('legend', fontsize=14)\n",
    "plt.rc('xtick', labelsize=10)\n",
    "plt.rc('ytick', labelsize=10)"
   ]
  },
  {
   "cell_type": "markdown",
   "metadata": {},
   "source": [
    "The `Perceptron` is equivalent to a `SGDClassifier` with `loss=\"perceptron\"`, no regularization, and a constant learning rate equal to 1:\n",
    "  \n",
    "When the Perceptron finds a decision boundary that properly separates the classes, it stops learning. This means that the decision boundary is often quite close to one class:"
   ]
  },
  {
   "cell_type": "code",
   "execution_count": 2,
   "metadata": {},
   "outputs": [
    {
     "data": {
      "text/plain": [
       "array([ True, False])"
      ]
     },
     "execution_count": 2,
     "metadata": {},
     "output_type": "execute_result"
    }
   ],
   "source": [
    "import numpy as np\n",
    "from sklearn.datasets import load_iris\n",
    "from sklearn.linear_model import Perceptron\n",
    "\n",
    "# as_frame : If True, the data is a pandas DataFrame including columns with appropriate dtypes (numeric).\n",
    "# The target is a pandas DataFrame or Series depending on the number of target columns. \n",
    "iris = load_iris(as_frame=True)\n",
    "X = iris.data[[\"petal length (cm)\", \"petal width (cm)\"]].values\n",
    "y = iris.target == 0    # Iris setosa\n",
    "\n",
    "per_clf = Perceptron(random_state=42)\n",
    "per_clf.fit(X, y)\n",
    "\n",
    "X_new = [[2, 0.5], [3, 1]]\n",
    "y_pred = per_clf.predict(X_new)  # predicts True and False for these 2 flowers\n",
    "\n",
    "y_pred"
   ]
  },
  {
   "cell_type": "markdown",
   "metadata": {},
   "source": [
    "## Regression MLPs"
   ]
  },
  {
   "cell_type": "code",
   "execution_count": 3,
   "metadata": {},
   "outputs": [
    {
     "data": {
      "text/plain": [
       "0.5053326657968451"
      ]
     },
     "execution_count": 3,
     "metadata": {},
     "output_type": "execute_result"
    }
   ],
   "source": [
    "from sklearn.datasets import fetch_california_housing\n",
    "from sklearn.neural_network import MLPRegressor\n",
    "from sklearn.model_selection import train_test_split\n",
    "from sklearn.pipeline import make_pipeline\n",
    "from sklearn.preprocessing import StandardScaler\n",
    "from sklearn.metrics import mean_squared_error\n",
    "\n",
    "housing = fetch_california_housing()\n",
    "X_train_full, X_test, y_train_full, y_test = train_test_split(\n",
    "    housing.data, housing.target, random_state=42)\n",
    "X_train, X_valid, y_train, y_valid = train_test_split(\n",
    "    X_train_full, y_train_full, random_state=42)\n",
    "\n",
    "mlp_reg = MLPRegressor(hidden_layer_sizes=[50, 50, 50], random_state=42)\n",
    "pipeline = make_pipeline(StandardScaler(), mlp_reg)\n",
    "pipeline.fit(X_train, y_train)\n",
    "y_pred = pipeline.predict(X_valid)\n",
    "rmse = mean_squared_error(y_valid, y_pred, squared=False)\n",
    "\n",
    "rmse"
   ]
  },
  {
   "cell_type": "markdown",
   "metadata": {},
   "source": [
    "## Classification MLPs"
   ]
  },
  {
   "cell_type": "code",
   "execution_count": 4,
   "metadata": {},
   "outputs": [
    {
     "data": {
      "text/plain": [
       "1.0"
      ]
     },
     "execution_count": 4,
     "metadata": {},
     "output_type": "execute_result"
    }
   ],
   "source": [
    "# extra code – this was left as an exercise for the reader\n",
    "\n",
    "from sklearn.datasets import load_iris\n",
    "from sklearn.model_selection import train_test_split\n",
    "from sklearn.neural_network import MLPClassifier\n",
    "\n",
    "iris = load_iris()\n",
    "X_train_full, X_test, y_train_full, y_test = train_test_split(\n",
    "    iris.data, iris.target, test_size=0.1, random_state=42)\n",
    "X_train, X_valid, y_train, y_valid = train_test_split(\n",
    "    X_train_full, y_train_full, test_size=0.1, random_state=42)\n",
    "\n",
    "mlp_clf = MLPClassifier(hidden_layer_sizes=[5], max_iter=10_000,\n",
    "                        random_state=42)\n",
    "pipeline = make_pipeline(StandardScaler(), mlp_clf)\n",
    "pipeline.fit(X_train, y_train)\n",
    "accuracy = pipeline.score(X_valid, y_valid)\n",
    "accuracy"
   ]
  },
  {
   "cell_type": "markdown",
   "metadata": {},
   "source": [
    "# Implementing MLPs with Keras\n",
    "## Building an Image Classifier Using the Sequential API\n"
   ]
  },
  {
   "cell_type": "code",
   "execution_count": 5,
   "metadata": {},
   "outputs": [
    {
     "name": "stdout",
     "output_type": "stream",
     "text": [
      "uint8\n",
      "(55000, 28, 28)\n"
     ]
    }
   ],
   "source": [
    "import tensorflow as tf\n",
    "\n",
    "fashion_minst = tf.keras.datasets.fashion_mnist.load_data()\n",
    "(X_train_full, y_train_full), (X_test, y_test) = fashion_minst\n",
    "X_train, y_train = X_train_full[:-5000], y_train_full[:-5000]\n",
    "X_valid, y_valid = X_train_full[-5000:], y_train_full[-5000:]\n",
    "\n",
    "print(X_train.dtype)\n",
    "print(X_train.shape)\n",
    "\n",
    "# scale the pixel intensities down to the 0-1 range and convert them to floats, by dividing by 255:\n",
    "X_train, X_valid, X_test = X_train / 255., X_valid / 255., X_test / 255. "
   ]
  },
  {
   "cell_type": "markdown",
   "metadata": {},
   "source": [
    "### Creating the model using the Sequential API"
   ]
  },
  {
   "cell_type": "code",
   "execution_count": 6,
   "metadata": {},
   "outputs": [
    {
     "name": "stdout",
     "output_type": "stream",
     "text": [
      "Model: \"sequential\"\n",
      "_________________________________________________________________\n",
      " Layer (type)                Output Shape              Param #   \n",
      "=================================================================\n",
      " flatten (Flatten)           (None, 784)               0         \n",
      "                                                                 \n",
      " dense (Dense)               (None, 300)               235500    \n",
      "                                                                 \n",
      " dense_1 (Dense)             (None, 100)               30100     \n",
      "                                                                 \n",
      " dense_2 (Dense)             (None, 10)                1010      \n",
      "                                                                 \n",
      "=================================================================\n",
      "Total params: 266,610\n",
      "Trainable params: 266,610\n",
      "Non-trainable params: 0\n",
      "_________________________________________________________________\n"
     ]
    }
   ],
   "source": [
    "# tf.random.set_seed(42)\n",
    "# model = tf.keras.Sequential()\n",
    "# model.add(tf.keras.layers.InputLayer(input_shape=[28, 28]))\n",
    "# model.add(tf.keras.layers.Flatten())\n",
    "# model.add(tf.keras.layers.Dense(300, activation='relu'))\n",
    "# model.add(tf.keras.layers.Dense(100, activation='relu'))\n",
    "# model.add(tf.keras.layers.Dense(10, activation='sodtmax'))\n",
    "\n",
    "# # extra code – clear the session to reset the name counters\n",
    "# tf.keras.backend.clear_session()\n",
    "tf.random.set_seed(42)\n",
    "\n",
    "model = tf.keras.Sequential([\n",
    "    tf.keras.layers.Flatten(input_shape=[28, 28]),\n",
    "    tf.keras.layers.Dense(300, activation='relu'),\n",
    "    tf.keras.layers.Dense(100, activation='relu'),\n",
    "    tf.keras.layers.Dense(10, activation='softmax')\n",
    "])\n",
    "\n",
    "model.summary()"
   ]
  },
  {
   "cell_type": "code",
   "execution_count": 7,
   "metadata": {},
   "outputs": [
    {
     "name": "stdout",
     "output_type": "stream",
     "text": [
      "You must install pydot (`pip install pydot`) and install graphviz (see instructions at https://graphviz.gitlab.io/download/) for plot_model to work.\n"
     ]
    }
   ],
   "source": [
    "# extra code – another way to display the model's architecture\n",
    "tf.keras.utils.plot_model(model, \"my_fashion_mnist_model.png\", show_shapes=True)"
   ]
  },
  {
   "cell_type": "code",
   "execution_count": 8,
   "metadata": {},
   "outputs": [
    {
     "name": "stdout",
     "output_type": "stream",
     "text": [
      "[<keras.layers.reshaping.flatten.Flatten object at 0x000002018614C760>, <keras.layers.core.dense.Dense object at 0x00000201F49C1C40>, <keras.layers.core.dense.Dense object at 0x00000201F49C1F10>, <keras.layers.core.dense.Dense object at 0x00000201F49C1280>]\n",
      "dense\n",
      "[[-0.03593194 -0.03054157 -0.0151444  ...  0.06530553  0.0692066\n",
      "   0.03545918]\n",
      " [-0.03600795  0.02913261  0.07103787 ...  0.03560663  0.0585812\n",
      "  -0.04698234]\n",
      " [-0.00252919  0.06595312 -0.05073933 ... -0.00796212 -0.04944368\n",
      "   0.07376117]\n",
      " ...\n",
      " [-0.05240785  0.02755237  0.05243734 ...  0.02979355 -0.0331187\n",
      "  -0.06194266]\n",
      " [-0.03699806  0.04478769 -0.021535   ... -0.01672903 -0.0015021\n",
      "   0.05672602]\n",
      " [-0.03019015 -0.01528448  0.00533719 ... -0.01368451 -0.00535827\n",
      "  -0.07312433]]\n",
      "(784, 300)\n",
      "[0. 0. 0. 0. 0. 0. 0. 0. 0. 0. 0. 0. 0. 0. 0. 0. 0. 0. 0. 0. 0. 0. 0. 0.\n",
      " 0. 0. 0. 0. 0. 0. 0. 0. 0. 0. 0. 0. 0. 0. 0. 0. 0. 0. 0. 0. 0. 0. 0. 0.\n",
      " 0. 0. 0. 0. 0. 0. 0. 0. 0. 0. 0. 0. 0. 0. 0. 0. 0. 0. 0. 0. 0. 0. 0. 0.\n",
      " 0. 0. 0. 0. 0. 0. 0. 0. 0. 0. 0. 0. 0. 0. 0. 0. 0. 0. 0. 0. 0. 0. 0. 0.\n",
      " 0. 0. 0. 0. 0. 0. 0. 0. 0. 0. 0. 0. 0. 0. 0. 0. 0. 0. 0. 0. 0. 0. 0. 0.\n",
      " 0. 0. 0. 0. 0. 0. 0. 0. 0. 0. 0. 0. 0. 0. 0. 0. 0. 0. 0. 0. 0. 0. 0. 0.\n",
      " 0. 0. 0. 0. 0. 0. 0. 0. 0. 0. 0. 0. 0. 0. 0. 0. 0. 0. 0. 0. 0. 0. 0. 0.\n",
      " 0. 0. 0. 0. 0. 0. 0. 0. 0. 0. 0. 0. 0. 0. 0. 0. 0. 0. 0. 0. 0. 0. 0. 0.\n",
      " 0. 0. 0. 0. 0. 0. 0. 0. 0. 0. 0. 0. 0. 0. 0. 0. 0. 0. 0. 0. 0. 0. 0. 0.\n",
      " 0. 0. 0. 0. 0. 0. 0. 0. 0. 0. 0. 0. 0. 0. 0. 0. 0. 0. 0. 0. 0. 0. 0. 0.\n",
      " 0. 0. 0. 0. 0. 0. 0. 0. 0. 0. 0. 0. 0. 0. 0. 0. 0. 0. 0. 0. 0. 0. 0. 0.\n",
      " 0. 0. 0. 0. 0. 0. 0. 0. 0. 0. 0. 0. 0. 0. 0. 0. 0. 0. 0. 0. 0. 0. 0. 0.\n",
      " 0. 0. 0. 0. 0. 0. 0. 0. 0. 0. 0. 0.]\n",
      "(300,)\n"
     ]
    }
   ],
   "source": [
    "print(model.layers)\n",
    "hidden1 = model.layers[1]\n",
    "print(hidden1.name)\n",
    "\n",
    "model.get_layer('dense') is hidden1\n",
    "\n",
    "weights, biases = hidden1.get_weights()\n",
    "print(weights)\n",
    "print(weights.shape)\n",
    "print(biases)\n",
    "print(biases.shape)"
   ]
  },
  {
   "cell_type": "markdown",
   "metadata": {},
   "source": [
    "### Compiling the model"
   ]
  },
  {
   "cell_type": "code",
   "execution_count": 9,
   "metadata": {},
   "outputs": [],
   "source": [
    "model.compile(loss='sparse_categorical_crossentropy',\n",
    "optimizer='sgd',\n",
    "metrics=['accuracy'])\n",
    "\n",
    "# extra code – this cell is equivalent to the previous cell\n",
    "# model.compile(loss=tf.keras.losses.sparse_categorical_crossentropy,\n",
    "#               optimizer=tf.keras.optimizers.SGD(),\n",
    "#               metrics=[tf.keras.metrics.sparse_categorical_accuracy])"
   ]
  },
  {
   "cell_type": "markdown",
   "metadata": {},
   "source": [
    "### Training and evaluating the model"
   ]
  },
  {
   "cell_type": "code",
   "execution_count": 10,
   "metadata": {},
   "outputs": [
    {
     "name": "stdout",
     "output_type": "stream",
     "text": [
      "Epoch 1/30\n",
      "1719/1719 [==============================] - 10s 6ms/step - loss: 0.7241 - accuracy: 0.7615 - val_loss: 0.5095 - val_accuracy: 0.8252\n",
      "Epoch 2/30\n",
      "1719/1719 [==============================] - 11s 6ms/step - loss: 0.4894 - accuracy: 0.8298 - val_loss: 0.4632 - val_accuracy: 0.8318\n",
      "Epoch 3/30\n",
      "1719/1719 [==============================] - 11s 6ms/step - loss: 0.4431 - accuracy: 0.8440 - val_loss: 0.4289 - val_accuracy: 0.8498\n",
      "Epoch 4/30\n",
      "1719/1719 [==============================] - 11s 6ms/step - loss: 0.4181 - accuracy: 0.8543 - val_loss: 0.4024 - val_accuracy: 0.8606\n",
      "Epoch 5/30\n",
      "1719/1719 [==============================] - 9s 5ms/step - loss: 0.3968 - accuracy: 0.8611 - val_loss: 0.3948 - val_accuracy: 0.8602\n",
      "Epoch 6/30\n",
      "1719/1719 [==============================] - 9s 5ms/step - loss: 0.3799 - accuracy: 0.8653 - val_loss: 0.3951 - val_accuracy: 0.8612\n",
      "Epoch 7/30\n",
      "1719/1719 [==============================] - 9s 5ms/step - loss: 0.3671 - accuracy: 0.8701 - val_loss: 0.3760 - val_accuracy: 0.8692\n",
      "Epoch 8/30\n",
      "1719/1719 [==============================] - 9s 5ms/step - loss: 0.3555 - accuracy: 0.8744 - val_loss: 0.3771 - val_accuracy: 0.8614\n",
      "Epoch 9/30\n",
      "1719/1719 [==============================] - 9s 6ms/step - loss: 0.3448 - accuracy: 0.8787 - val_loss: 0.3507 - val_accuracy: 0.8748\n",
      "Epoch 10/30\n",
      "1719/1719 [==============================] - 9s 5ms/step - loss: 0.3345 - accuracy: 0.8808 - val_loss: 0.3526 - val_accuracy: 0.8744\n",
      "Epoch 11/30\n",
      "1719/1719 [==============================] - 11s 6ms/step - loss: 0.3258 - accuracy: 0.8840 - val_loss: 0.3650 - val_accuracy: 0.8646\n",
      "Epoch 12/30\n",
      "1719/1719 [==============================] - 10s 6ms/step - loss: 0.3176 - accuracy: 0.8871 - val_loss: 0.3472 - val_accuracy: 0.8692\n",
      "Epoch 13/30\n",
      "1719/1719 [==============================] - 10s 6ms/step - loss: 0.3104 - accuracy: 0.8899 - val_loss: 0.3304 - val_accuracy: 0.8800\n",
      "Epoch 14/30\n",
      "1719/1719 [==============================] - 10s 6ms/step - loss: 0.3033 - accuracy: 0.8913 - val_loss: 0.3370 - val_accuracy: 0.8770\n",
      "Epoch 15/30\n",
      "1719/1719 [==============================] - 13s 8ms/step - loss: 0.2969 - accuracy: 0.8945 - val_loss: 0.3343 - val_accuracy: 0.8780\n",
      "Epoch 16/30\n",
      "1719/1719 [==============================] - 11s 6ms/step - loss: 0.2897 - accuracy: 0.8961 - val_loss: 0.3289 - val_accuracy: 0.8778\n",
      "Epoch 17/30\n",
      "1719/1719 [==============================] - 10s 6ms/step - loss: 0.2847 - accuracy: 0.8963 - val_loss: 0.3391 - val_accuracy: 0.8738\n",
      "Epoch 18/30\n",
      "1719/1719 [==============================] - 10s 6ms/step - loss: 0.2787 - accuracy: 0.9003 - val_loss: 0.3248 - val_accuracy: 0.8828\n",
      "Epoch 19/30\n",
      "1719/1719 [==============================] - 12s 7ms/step - loss: 0.2734 - accuracy: 0.9024 - val_loss: 0.3469 - val_accuracy: 0.8702\n",
      "Epoch 20/30\n",
      "1719/1719 [==============================] - 10s 6ms/step - loss: 0.2680 - accuracy: 0.9046 - val_loss: 0.3225 - val_accuracy: 0.8780\n",
      "Epoch 21/30\n",
      "1719/1719 [==============================] - 12s 7ms/step - loss: 0.2631 - accuracy: 0.9056 - val_loss: 0.3144 - val_accuracy: 0.8800\n",
      "Epoch 22/30\n",
      "1719/1719 [==============================] - 13s 7ms/step - loss: 0.2583 - accuracy: 0.9068 - val_loss: 0.3172 - val_accuracy: 0.8824\n",
      "Epoch 23/30\n",
      "1719/1719 [==============================] - 11s 6ms/step - loss: 0.2535 - accuracy: 0.9095 - val_loss: 0.3446 - val_accuracy: 0.8716\n",
      "Epoch 24/30\n",
      "1719/1719 [==============================] - 11s 6ms/step - loss: 0.2484 - accuracy: 0.9118 - val_loss: 0.3205 - val_accuracy: 0.8824\n",
      "Epoch 25/30\n",
      "1719/1719 [==============================] - 10s 6ms/step - loss: 0.2442 - accuracy: 0.9117 - val_loss: 0.3193 - val_accuracy: 0.8806\n",
      "Epoch 26/30\n",
      "1719/1719 [==============================] - 11s 6ms/step - loss: 0.2405 - accuracy: 0.9141 - val_loss: 0.3105 - val_accuracy: 0.8826\n",
      "Epoch 27/30\n",
      "1719/1719 [==============================] - 10s 6ms/step - loss: 0.2355 - accuracy: 0.9144 - val_loss: 0.3188 - val_accuracy: 0.8864\n",
      "Epoch 28/30\n",
      "1719/1719 [==============================] - 12s 7ms/step - loss: 0.2323 - accuracy: 0.9174 - val_loss: 0.3094 - val_accuracy: 0.8890\n",
      "Epoch 29/30\n",
      "1719/1719 [==============================] - 10s 6ms/step - loss: 0.2284 - accuracy: 0.9177 - val_loss: 0.3136 - val_accuracy: 0.8826\n",
      "Epoch 30/30\n",
      "1719/1719 [==============================] - 11s 7ms/step - loss: 0.2246 - accuracy: 0.9201 - val_loss: 0.3092 - val_accuracy: 0.8858\n"
     ]
    }
   ],
   "source": [
    "history = model.fit(X_train, y_train, epochs=30, validation_data=(X_valid, y_valid))"
   ]
  },
  {
   "cell_type": "code",
   "execution_count": 11,
   "metadata": {},
   "outputs": [
    {
     "name": "stdout",
     "output_type": "stream",
     "text": [
      "{'verbose': 1, 'epochs': 30, 'steps': 1719}\n"
     ]
    },
    {
     "data": {
      "image/png": "[encoded data removed]",
      "text/plain": [
       "<Figure size 800x500 with 1 Axes>"
      ]
     },
     "metadata": {},
     "output_type": "display_data"
    }
   ],
   "source": [
    "print(history.params)\n",
    "\n",
    "import matplotlib.pyplot as plt\n",
    "import pandas as pd\n",
    "\n",
    "pd.DataFrame(history.history).plot(\n",
    "    figsize=(8, 5), xlim=[0, 29], ylim=[0, 1], grid=True, xlabel=\"Epoch\",\n",
    "    style=[\"r--\", \"r--.\", \"b-\", \"b-*\"])\n",
    "plt.legend(loc=\"lower left\")  # extra code\n",
    "plt.show()"
   ]
  },
  {
   "cell_type": "code",
   "execution_count": 12,
   "metadata": {},
   "outputs": [
    {
     "name": "stdout",
     "output_type": "stream",
     "text": [
      "313/313 [==============================] - 1s 4ms/step - loss: 0.3227 - accuracy: 0.8834\n"
     ]
    },
    {
     "data": {
      "text/plain": [
       "[0.32270267605781555, 0.883400022983551]"
      ]
     },
     "execution_count": 12,
     "metadata": {},
     "output_type": "execute_result"
    }
   ],
   "source": [
    "model.evaluate(X_test, y_test)"
   ]
  },
  {
   "cell_type": "markdown",
   "metadata": {},
   "source": [
    "### Using the model to make predictions"
   ]
  },
  {
   "cell_type": "code",
   "execution_count": 13,
   "metadata": {},
   "outputs": [
    {
     "name": "stdout",
     "output_type": "stream",
     "text": [
      "1/1 [==============================] - 0s 353ms/step\n",
      "[[0.   0.   0.   0.   0.   0.01 0.   0.04 0.   0.96]\n",
      " [0.   0.   1.   0.   0.   0.   0.   0.   0.   0.  ]\n",
      " [0.   1.   0.   0.   0.   0.   0.   0.   0.   0.  ]]\n",
      "[9 2 1]\n",
      "[9 2 1]\n"
     ]
    }
   ],
   "source": [
    "class_names = [\"T-shirt/top\", \"Trouser\", \"Pullover\", \"Dress\", \"Coat\",\n",
    "               \"Sandal\", \"Shirt\", \"Sneaker\", \"Bag\", \"Ankle boot\"]\n",
    "\n",
    "X_new = X_test[:3]\n",
    "y_proba = model.predict(X_new)\n",
    "print(y_proba.round(2))\n",
    "\n",
    "y_pred = y_proba.argmax(axis=-1)\n",
    "print(y_pred)\n",
    "\n",
    "np.array(class_names)[y_pred]\n",
    "\n",
    "y_new = y_test[:3]\n",
    "print(y_new)\n"
   ]
  },
  {
   "cell_type": "markdown",
   "metadata": {},
   "source": [
    "## Building a Regression MLP Using the Sequential API\n",
    "we’re using a `Normalization layer` as the\n",
    "first layer: it does the same thing as Scikit-Learn’s StandardScaler, but\n",
    "it must be fitted to the training data using its `adapt() method` before you\n",
    "call the model’s `fit() method`."
   ]
  },
  {
   "cell_type": "code",
   "execution_count": 14,
   "metadata": {},
   "outputs": [
    {
     "name": "stdout",
     "output_type": "stream",
     "text": [
      "Epoch 1/20\n",
      "363/363 [==============================] - 4s 6ms/step - loss: 0.8428 - root_mean_squared_error: 0.9180 - val_loss: 0.6089 - val_root_mean_squared_error: 0.7803\n",
      "Epoch 2/20\n",
      "363/363 [==============================] - 3s 7ms/step - loss: 0.3838 - root_mean_squared_error: 0.6195 - val_loss: 1.6744 - val_root_mean_squared_error: 1.2940\n",
      "Epoch 3/20\n",
      "363/363 [==============================] - 3s 8ms/step - loss: 0.3671 - root_mean_squared_error: 0.6059 - val_loss: 0.6570 - val_root_mean_squared_error: 0.8105\n",
      "Epoch 4/20\n",
      "363/363 [==============================] - 2s 6ms/step - loss: 0.3494 - root_mean_squared_error: 0.5911 - val_loss: 1.6411 - val_root_mean_squared_error: 1.2811\n",
      "Epoch 5/20\n",
      "363/363 [==============================] - 3s 7ms/step - loss: 0.3385 - root_mean_squared_error: 0.5818 - val_loss: 2.3681 - val_root_mean_squared_error: 1.5389\n",
      "Epoch 6/20\n",
      "363/363 [==============================] - 3s 8ms/step - loss: 0.3431 - root_mean_squared_error: 0.5858 - val_loss: 0.3947 - val_root_mean_squared_error: 0.6283\n",
      "Epoch 7/20\n",
      "363/363 [==============================] - 2s 7ms/step - loss: 0.3150 - root_mean_squared_error: 0.5613 - val_loss: 0.6080 - val_root_mean_squared_error: 0.7798\n",
      "Epoch 8/20\n",
      "363/363 [==============================] - 2s 5ms/step - loss: 0.3096 - root_mean_squared_error: 0.5564 - val_loss: 2.0438 - val_root_mean_squared_error: 1.4296\n",
      "Epoch 9/20\n",
      "363/363 [==============================] - 3s 8ms/step - loss: 0.3104 - root_mean_squared_error: 0.5571 - val_loss: 1.4461 - val_root_mean_squared_error: 1.2026\n",
      "Epoch 10/20\n",
      "363/363 [==============================] - 2s 7ms/step - loss: 0.3069 - root_mean_squared_error: 0.5540 - val_loss: 0.3038 - val_root_mean_squared_error: 0.5512\n",
      "Epoch 11/20\n",
      "363/363 [==============================] - 2s 7ms/step - loss: 0.2907 - root_mean_squared_error: 0.5391 - val_loss: 0.2949 - val_root_mean_squared_error: 0.5431\n",
      "Epoch 12/20\n",
      "363/363 [==============================] - 2s 5ms/step - loss: 0.2946 - root_mean_squared_error: 0.5428 - val_loss: 0.5514 - val_root_mean_squared_error: 0.7426\n",
      "Epoch 13/20\n",
      "363/363 [==============================] - 1s 3ms/step - loss: 0.2872 - root_mean_squared_error: 0.5359 - val_loss: 0.3724 - val_root_mean_squared_error: 0.6102\n",
      "Epoch 14/20\n",
      "363/363 [==============================] - 2s 7ms/step - loss: 0.2862 - root_mean_squared_error: 0.5350 - val_loss: 0.4051 - val_root_mean_squared_error: 0.6365\n",
      "Epoch 15/20\n",
      "363/363 [==============================] - 2s 7ms/step - loss: 0.2833 - root_mean_squared_error: 0.5323 - val_loss: 0.2703 - val_root_mean_squared_error: 0.5199\n",
      "Epoch 16/20\n",
      "363/363 [==============================] - 2s 5ms/step - loss: 0.2800 - root_mean_squared_error: 0.5292 - val_loss: 0.2740 - val_root_mean_squared_error: 0.5235\n",
      "Epoch 17/20\n",
      "363/363 [==============================] - 2s 5ms/step - loss: 0.2778 - root_mean_squared_error: 0.5271 - val_loss: 0.6102 - val_root_mean_squared_error: 0.7811\n",
      "Epoch 18/20\n",
      "363/363 [==============================] - 2s 6ms/step - loss: 0.2746 - root_mean_squared_error: 0.5240 - val_loss: 0.2903 - val_root_mean_squared_error: 0.5388\n",
      "Epoch 19/20\n",
      "363/363 [==============================] - 1s 4ms/step - loss: 0.2722 - root_mean_squared_error: 0.5217 - val_loss: 0.4142 - val_root_mean_squared_error: 0.6436\n",
      "Epoch 20/20\n",
      "363/363 [==============================] - 2s 7ms/step - loss: 0.2740 - root_mean_squared_error: 0.5234 - val_loss: 0.2728 - val_root_mean_squared_error: 0.5223\n",
      "162/162 [==============================] - 1s 4ms/step - loss: 0.2844 - root_mean_squared_error: 0.5333\n",
      "1/1 [==============================] - 0s 353ms/step\n"
     ]
    }
   ],
   "source": [
    "housing = fetch_california_housing()\n",
    "X_train_full, X_test, y_train_full, y_test = train_test_split(\n",
    "    housing.data, housing.target, random_state=42)\n",
    "X_train, X_valid, y_train, y_valid = train_test_split(\n",
    "    X_train_full, y_train_full, random_state=42)\n",
    "\n",
    "tf.random.set_seed(42)\n",
    "norm_layer = tf.keras.layers.Normalization(input_shape=X_train.shape[1:])\n",
    "model = tf.keras.Sequential([\n",
    "    norm_layer,\n",
    "    tf.keras.layers.Dense(50, activation='relu'),\n",
    "    tf.keras.layers.Dense(50, activation='relu'),\n",
    "    tf.keras.layers.Dense(50, activation='relu'),\n",
    "    tf.keras.layers.Dense(1)\n",
    "])\n",
    "\n",
    "optimizer = tf.keras.optimizers.Adam(learning_rate=1e-3)\n",
    "model.compile(loss='mse', optimizer=optimizer, metrics=['RootMeanSquaredError'])\n",
    "norm_layer.adapt(X_train)\n",
    "model.fit(X_train, y_train, epochs=20,\n",
    "                    validation_data=(X_valid, y_valid))\n",
    "mse_test, rmse_test = model.evaluate(X_test, y_test)\n",
    "X_new = X_test[:3]\n",
    "y_pred = model.predict(X_new)"
   ]
  },
  {
   "cell_type": "code",
   "execution_count": 15,
   "metadata": {},
   "outputs": [
    {
     "name": "stdout",
     "output_type": "stream",
     "text": [
      "0.5333039164543152\n",
      "[[0.48236302]\n",
      " [1.1459419 ]\n",
      " [4.9248605 ]]\n"
     ]
    }
   ],
   "source": [
    "print(rmse_test)\n",
    "print(y_pred)"
   ]
  },
  {
   "cell_type": "markdown",
   "metadata": {},
   "source": [
    "## Building Complex Models Using the Functional API"
   ]
  },
  {
   "cell_type": "code",
   "execution_count": 16,
   "metadata": {},
   "outputs": [
    {
     "name": "stdout",
     "output_type": "stream",
     "text": [
      "Model: \"model\"\n",
      "__________________________________________________________________________________________________\n",
      " Layer (type)                   Output Shape         Param #     Connected to                     \n",
      "==================================================================================================\n",
      " input_1 (InputLayer)           [(None, 8)]          0           []                               \n",
      "                                                                                                  \n",
      " normalization (Normalization)  (None, 8)            17          ['input_1[0][0]']                \n",
      "                                                                                                  \n",
      " dense (Dense)                  (None, 30)           270         ['normalization[0][0]']          \n",
      "                                                                                                  \n",
      " dense_1 (Dense)                (None, 30)           930         ['dense[0][0]']                  \n",
      "                                                                                                  \n",
      " concatenate (Concatenate)      (None, 38)           0           ['input_1[0][0]',                \n",
      "                                                                  'dense_1[0][0]']                \n",
      "                                                                                                  \n",
      " dense_2 (Dense)                (None, 1)            39          ['concatenate[0][0]']            \n",
      "                                                                                                  \n",
      "==================================================================================================\n",
      "Total params: 1,256\n",
      "Trainable params: 1,239\n",
      "Non-trainable params: 17\n",
      "__________________________________________________________________________________________________\n"
     ]
    }
   ],
   "source": [
    "# extra code – reset the name counters and make the code reproducible\n",
    "tf.keras.backend.clear_session()\n",
    "tf.random.set_seed(42)\n",
    "\n",
    "# normalization_layer = tf.keras.layers.Normalization()\n",
    "# hidden_layer1 = tf.keras.layers.Dense(30, activation=\"relu\")\n",
    "# hidden_layer2 = tf.keras.layers.Dense(30, activation=\"relu\")\n",
    "# concat_layer = tf.keras.layers.Concatenate()\n",
    "# output_layer = tf.keras.layers.Dense(1)\n",
    "\n",
    "# input_ = tf.keras.layers.Input(shape=X_train.shape[1:])\n",
    "# normalized = normalization_layer(input_)\n",
    "# hidden1 = hidden_layer1(normalized)\n",
    "# hidden2 = hidden_layer2(hidden1)\n",
    "# concat = concat_layer([input_, hidden2])\n",
    "# output = output_layer(concat)\n",
    "\n",
    "# model = tf.keras.Model(inputs=[input_], outputs=[output])\n",
    "\n",
    "normalization_layer = tf.keras.layers.Normalization()\n",
    "input_ = tf.keras.layers.Input(shape=X_train.shape[1:])\n",
    "normalized = normalization_layer(input_)\n",
    "hidden1 = tf.keras.layers.Dense(30, activation='relu') (normalized)\n",
    "hidden2 = tf.keras.layers.Dense(30, activation='relu') (hidden1)\n",
    "concat = tf.keras.layers.concatenate([input_, hidden2])\n",
    "output = tf.keras.layers.Dense(1) (concat)\n",
    "\n",
    "model = tf.keras.Model(inputs=[input_], outputs=[output])\n",
    "\n",
    "model.summary()\n"
   ]
  },
  {
   "cell_type": "code",
   "execution_count": 17,
   "metadata": {},
   "outputs": [
    {
     "name": "stdout",
     "output_type": "stream",
     "text": [
      "Epoch 1/20\n",
      "363/363 [==============================] - 4s 7ms/step - loss: 83592.1250 - root_mean_squared_error: 289.1230 - val_loss: 33864.4766 - val_root_mean_squared_error: 184.0230\n",
      "Epoch 2/20\n",
      "363/363 [==============================] - 3s 8ms/step - loss: 1792.4393 - root_mean_squared_error: 42.3372 - val_loss: 23233.6270 - val_root_mean_squared_error: 152.4258\n",
      "Epoch 3/20\n",
      "363/363 [==============================] - 2s 6ms/step - loss: 514.9739 - root_mean_squared_error: 22.6930 - val_loss: 14649.7236 - val_root_mean_squared_error: 121.0360\n",
      "Epoch 4/20\n",
      "363/363 [==============================] - 2s 5ms/step - loss: 232.6661 - root_mean_squared_error: 15.2534 - val_loss: 8693.0186 - val_root_mean_squared_error: 93.2364\n",
      "Epoch 5/20\n",
      "363/363 [==============================] - 2s 6ms/step - loss: 134.9413 - root_mean_squared_error: 11.6164 - val_loss: 5509.5273 - val_root_mean_squared_error: 74.2262\n",
      "Epoch 6/20\n",
      "363/363 [==============================] - 2s 5ms/step - loss: 80.3776 - root_mean_squared_error: 8.9654 - val_loss: 3616.3525 - val_root_mean_squared_error: 60.1361\n",
      "Epoch 7/20\n",
      "363/363 [==============================] - 2s 6ms/step - loss: 45.4666 - root_mean_squared_error: 6.7429 - val_loss: 2237.8721 - val_root_mean_squared_error: 47.3062\n",
      "Epoch 8/20\n",
      "363/363 [==============================] - 1s 4ms/step - loss: 24.1165 - root_mean_squared_error: 4.9109 - val_loss: 1194.9037 - val_root_mean_squared_error: 34.5674\n",
      "Epoch 9/20\n",
      "363/363 [==============================] - 2s 5ms/step - loss: 12.6828 - root_mean_squared_error: 3.5613 - val_loss: 710.2790 - val_root_mean_squared_error: 26.6511\n",
      "Epoch 10/20\n",
      "363/363 [==============================] - 2s 6ms/step - loss: 7.5371 - root_mean_squared_error: 2.7454 - val_loss: 471.9864 - val_root_mean_squared_error: 21.7252\n",
      "Epoch 11/20\n",
      "363/363 [==============================] - 2s 6ms/step - loss: 5.0151 - root_mean_squared_error: 2.2394 - val_loss: 385.8012 - val_root_mean_squared_error: 19.6418\n",
      "Epoch 12/20\n",
      "363/363 [==============================] - 1s 4ms/step - loss: 3.7045 - root_mean_squared_error: 1.9247 - val_loss: 326.0929 - val_root_mean_squared_error: 18.0580\n",
      "Epoch 13/20\n",
      "363/363 [==============================] - 2s 5ms/step - loss: 2.8391 - root_mean_squared_error: 1.6849 - val_loss: 328.9086 - val_root_mean_squared_error: 18.1358\n",
      "Epoch 14/20\n",
      "363/363 [==============================] - 2s 6ms/step - loss: 2.2232 - root_mean_squared_error: 1.4910 - val_loss: 331.2306 - val_root_mean_squared_error: 18.1997\n",
      "Epoch 15/20\n",
      "363/363 [==============================] - 2s 4ms/step - loss: 1.8072 - root_mean_squared_error: 1.3443 - val_loss: 333.5255 - val_root_mean_squared_error: 18.2627\n",
      "Epoch 16/20\n",
      "363/363 [==============================] - 2s 5ms/step - loss: 1.5646 - root_mean_squared_error: 1.2509 - val_loss: 262.9916 - val_root_mean_squared_error: 16.2170\n",
      "Epoch 17/20\n",
      "363/363 [==============================] - 2s 6ms/step - loss: 1.3563 - root_mean_squared_error: 1.1646 - val_loss: 386.1895 - val_root_mean_squared_error: 19.6517\n",
      "Epoch 18/20\n",
      "363/363 [==============================] - 2s 6ms/step - loss: 1.2252 - root_mean_squared_error: 1.1069 - val_loss: 232.1159 - val_root_mean_squared_error: 15.2353\n",
      "Epoch 19/20\n",
      "363/363 [==============================] - 2s 6ms/step - loss: 1.0612 - root_mean_squared_error: 1.0301 - val_loss: 320.6320 - val_root_mean_squared_error: 17.9062\n",
      "Epoch 20/20\n",
      "363/363 [==============================] - 1s 4ms/step - loss: 1.3629 - root_mean_squared_error: 1.1674 - val_loss: 188.8842 - val_root_mean_squared_error: 13.7435\n",
      "162/162 [==============================] - 1s 4ms/step - loss: 0.9965 - root_mean_squared_error: 0.9982\n",
      "1/1 [==============================] - 0s 248ms/step\n"
     ]
    }
   ],
   "source": [
    "optimizer = tf.keras.optimizers.Adam(learning_rate=1e-3)\n",
    "model.compile(optimizer=optimizer, loss='mse', metrics='RootMeanSquaredError')\n",
    "normalization_layer.adapt(X_train)\n",
    "history = model.fit(X_train, y_train, epochs=20,\n",
    "                    validation_data=(X_valid, y_valid))\n",
    "mse_test = model.evaluate(X_test, y_test)\n",
    "y_pred = model.predict(X_new)"
   ]
  },
  {
   "cell_type": "code",
   "execution_count": 18,
   "metadata": {},
   "outputs": [
    {
     "name": "stdout",
     "output_type": "stream",
     "text": [
      "Epoch 1/20\n",
      "363/363 [==============================] - 4s 7ms/step - loss: 1.5623 - root_mean_squared_error: 1.2499 - val_loss: 0.6583 - val_root_mean_squared_error: 0.8113\n",
      "Epoch 2/20\n",
      "363/363 [==============================] - 2s 6ms/step - loss: 0.5645 - root_mean_squared_error: 0.7513 - val_loss: 1.2844 - val_root_mean_squared_error: 1.1333\n",
      "Epoch 3/20\n",
      "363/363 [==============================] - 2s 6ms/step - loss: 0.4753 - root_mean_squared_error: 0.6894 - val_loss: 0.4516 - val_root_mean_squared_error: 0.6720\n",
      "Epoch 4/20\n",
      "363/363 [==============================] - 2s 6ms/step - loss: 0.4266 - root_mean_squared_error: 0.6532 - val_loss: 0.5466 - val_root_mean_squared_error: 0.7393\n",
      "Epoch 5/20\n",
      "363/363 [==============================] - 1s 4ms/step - loss: 0.4046 - root_mean_squared_error: 0.6361 - val_loss: 1.1887 - val_root_mean_squared_error: 1.0903\n",
      "Epoch 6/20\n",
      "363/363 [==============================] - 2s 6ms/step - loss: 0.3907 - root_mean_squared_error: 0.6251 - val_loss: 1.6901 - val_root_mean_squared_error: 1.3001\n",
      "Epoch 7/20\n",
      "363/363 [==============================] - 2s 6ms/step - loss: 0.3869 - root_mean_squared_error: 0.6220 - val_loss: 1.7728 - val_root_mean_squared_error: 1.3315\n",
      "Epoch 8/20\n",
      "363/363 [==============================] - 2s 6ms/step - loss: 0.3677 - root_mean_squared_error: 0.6064 - val_loss: 4.8772 - val_root_mean_squared_error: 2.2084\n",
      "Epoch 9/20\n",
      "363/363 [==============================] - 1s 3ms/step - loss: 0.3734 - root_mean_squared_error: 0.6111 - val_loss: 4.7629 - val_root_mean_squared_error: 2.1824\n",
      "Epoch 10/20\n",
      "363/363 [==============================] - 2s 5ms/step - loss: 0.3915 - root_mean_squared_error: 0.6257 - val_loss: 1.5746 - val_root_mean_squared_error: 1.2548\n",
      "Epoch 11/20\n",
      "363/363 [==============================] - 2s 6ms/step - loss: 0.3535 - root_mean_squared_error: 0.5945 - val_loss: 0.3274 - val_root_mean_squared_error: 0.5722\n",
      "Epoch 12/20\n",
      "363/363 [==============================] - 2s 6ms/step - loss: 0.3485 - root_mean_squared_error: 0.5903 - val_loss: 0.5486 - val_root_mean_squared_error: 0.7407\n",
      "Epoch 13/20\n",
      "363/363 [==============================] - 1s 4ms/step - loss: 0.3430 - root_mean_squared_error: 0.5857 - val_loss: 0.3478 - val_root_mean_squared_error: 0.5898\n",
      "Epoch 14/20\n",
      "363/363 [==============================] - 2s 5ms/step - loss: 0.3378 - root_mean_squared_error: 0.5812 - val_loss: 0.3178 - val_root_mean_squared_error: 0.5638\n",
      "Epoch 15/20\n",
      "363/363 [==============================] - 2s 6ms/step - loss: 0.3368 - root_mean_squared_error: 0.5803 - val_loss: 0.3800 - val_root_mean_squared_error: 0.6164\n",
      "Epoch 16/20\n",
      "363/363 [==============================] - 2s 6ms/step - loss: 0.3297 - root_mean_squared_error: 0.5742 - val_loss: 0.3132 - val_root_mean_squared_error: 0.5596\n",
      "Epoch 17/20\n",
      "363/363 [==============================] - 2s 4ms/step - loss: 0.3300 - root_mean_squared_error: 0.5745 - val_loss: 0.3277 - val_root_mean_squared_error: 0.5724\n",
      "Epoch 18/20\n",
      "363/363 [==============================] - 1s 3ms/step - loss: 0.3262 - root_mean_squared_error: 0.5712 - val_loss: 0.4329 - val_root_mean_squared_error: 0.6580\n",
      "Epoch 19/20\n",
      "363/363 [==============================] - 2s 5ms/step - loss: 0.3236 - root_mean_squared_error: 0.5689 - val_loss: 0.8060 - val_root_mean_squared_error: 0.8977\n",
      "Epoch 20/20\n",
      "363/363 [==============================] - 2s 5ms/step - loss: 0.3319 - root_mean_squared_error: 0.5761 - val_loss: 3.3306 - val_root_mean_squared_error: 1.8250\n",
      "162/162 [==============================] - 1s 3ms/step - loss: 0.3347 - root_mean_squared_error: 0.5785\n",
      "1/1 [==============================] - 0s 111ms/step\n"
     ]
    }
   ],
   "source": [
    "tf.random.set_seed(42)  # extra code\n",
    "\n",
    "input_wide = tf.keras.layers.Input(shape=[5])  # features 0 to 4\n",
    "input_deep = tf.keras.layers.Input(shape=[6])  # features 2 to 7\n",
    "norm_layer_wide = tf.keras.layers.Normalization()\n",
    "norm_layer_deep = tf.keras.layers.Normalization()\n",
    "norm_wide = norm_layer_wide(input_wide)\n",
    "norm_deep = norm_layer_deep(input_deep)\n",
    "hidden1 = tf.keras.layers.Dense(30, activation=\"relu\")(norm_deep)\n",
    "hidden2 = tf.keras.layers.Dense(30, activation=\"relu\")(hidden1)\n",
    "concat = tf.keras.layers.concatenate([norm_wide, hidden2])\n",
    "output = tf.keras.layers.Dense(1)(concat)\n",
    "model = tf.keras.Model(inputs=[input_wide, input_deep], outputs=[output])\n",
    "\n",
    "optimizer = tf.keras.optimizers.Adam(learning_rate=1e-3)\n",
    "model.compile(loss=\"mse\", optimizer=optimizer, metrics=[\"RootMeanSquaredError\"])\n",
    "\n",
    "X_train_wide, X_train_deep = X_train[:, :5], X_train[:, 2:]\n",
    "X_valid_wide, X_valid_deep = X_valid[:, :5], X_valid[:, 2:]\n",
    "X_test_wide, X_test_deep = X_test[:, :5], X_test[:, 2:]\n",
    "X_new_wide, X_new_deep = X_test_wide[:3], X_test_deep[:3]\n",
    "\n",
    "norm_layer_wide.adapt(X_train_wide)\n",
    "norm_layer_deep.adapt(X_train_deep)\n",
    "history = model.fit((X_train_wide, X_train_deep), y_train, epochs=20,\n",
    "                    validation_data=((X_valid_wide, X_valid_deep), y_valid))\n",
    "mse_test = model.evaluate((X_test_wide, X_test_deep), y_test)\n",
    "y_pred = model.predict((X_new_wide, X_new_deep))"
   ]
  },
  {
   "cell_type": "code",
   "execution_count": 19,
   "metadata": {},
   "outputs": [
    {
     "name": "stdout",
     "output_type": "stream",
     "text": [
      "Epoch 1/20\n",
      "363/363 [==============================] - 5s 8ms/step - loss: 1.3557 - dense_2_loss: 1.2931 - dense_3_loss: 1.9190 - dense_2_root_mean_squared_error: 1.1371 - dense_3_root_mean_squared_error: 1.3853 - val_loss: 0.6610 - val_dense_2_loss: 0.5742 - val_dense_3_loss: 1.4416 - val_dense_2_root_mean_squared_error: 0.7578 - val_dense_3_root_mean_squared_error: 1.2007\n",
      "Epoch 2/20\n",
      "363/363 [==============================] - 1s 4ms/step - loss: 0.5184 - dense_2_loss: 0.4923 - dense_3_loss: 0.7527 - dense_2_root_mean_squared_error: 0.7017 - dense_3_root_mean_squared_error: 0.8676 - val_loss: 0.6083 - val_dense_2_loss: 0.6036 - val_dense_3_loss: 0.6501 - val_dense_2_root_mean_squared_error: 0.7769 - val_dense_3_root_mean_squared_error: 0.8063\n",
      "Epoch 3/20\n",
      "363/363 [==============================] - 2s 7ms/step - loss: 0.4510 - dense_2_loss: 0.4338 - dense_3_loss: 0.6061 - dense_2_root_mean_squared_error: 0.6586 - dense_3_root_mean_squared_error: 0.7785 - val_loss: 0.4542 - val_dense_2_loss: 0.4372 - val_dense_3_loss: 0.6076 - val_dense_2_root_mean_squared_error: 0.6612 - val_dense_3_root_mean_squared_error: 0.7795\n",
      "Epoch 4/20\n",
      "363/363 [==============================] - 2s 7ms/step - loss: 0.4198 - dense_2_loss: 0.4037 - dense_3_loss: 0.5651 - dense_2_root_mean_squared_error: 0.6354 - dense_3_root_mean_squared_error: 0.7517 - val_loss: 0.5466 - val_dense_2_loss: 0.5337 - val_dense_3_loss: 0.6620 - val_dense_2_root_mean_squared_error: 0.7306 - val_dense_3_root_mean_squared_error: 0.8136\n",
      "Epoch 5/20\n",
      "363/363 [==============================] - 2s 7ms/step - loss: 0.4103 - dense_2_loss: 0.3959 - dense_3_loss: 0.5394 - dense_2_root_mean_squared_error: 0.6292 - dense_3_root_mean_squared_error: 0.7345 - val_loss: 1.0507 - val_dense_2_loss: 1.0668 - val_dense_3_loss: 0.9062 - val_dense_2_root_mean_squared_error: 1.0328 - val_dense_3_root_mean_squared_error: 0.9519\n",
      "Epoch 6/20\n",
      "363/363 [==============================] - 1s 4ms/step - loss: 0.3993 - dense_2_loss: 0.3854 - dense_3_loss: 0.5244 - dense_2_root_mean_squared_error: 0.6208 - dense_3_root_mean_squared_error: 0.7241 - val_loss: 0.8246 - val_dense_2_loss: 0.8285 - val_dense_3_loss: 0.7891 - val_dense_2_root_mean_squared_error: 0.9102 - val_dense_3_root_mean_squared_error: 0.8883\n",
      "Epoch 7/20\n",
      "363/363 [==============================] - 2s 7ms/step - loss: 0.3899 - dense_2_loss: 0.3774 - dense_3_loss: 0.5030 - dense_2_root_mean_squared_error: 0.6143 - dense_3_root_mean_squared_error: 0.7093 - val_loss: 0.9944 - val_dense_2_loss: 0.9879 - val_dense_3_loss: 1.0527 - val_dense_2_root_mean_squared_error: 0.9939 - val_dense_3_root_mean_squared_error: 1.0260\n",
      "Epoch 8/20\n",
      "363/363 [==============================] - 3s 7ms/step - loss: 0.3813 - dense_2_loss: 0.3696 - dense_3_loss: 0.4863 - dense_2_root_mean_squared_error: 0.6080 - dense_3_root_mean_squared_error: 0.6974 - val_loss: 2.8024 - val_dense_2_loss: 2.8268 - val_dense_3_loss: 2.5823 - val_dense_2_root_mean_squared_error: 1.6813 - val_dense_3_root_mean_squared_error: 1.6069\n",
      "Epoch 9/20\n",
      "363/363 [==============================] - 2s 7ms/step - loss: 0.3811 - dense_2_loss: 0.3702 - dense_3_loss: 0.4787 - dense_2_root_mean_squared_error: 0.6084 - dense_3_root_mean_squared_error: 0.6919 - val_loss: 2.1789 - val_dense_2_loss: 2.2740 - val_dense_3_loss: 1.3232 - val_dense_2_root_mean_squared_error: 1.5080 - val_dense_3_root_mean_squared_error: 1.1503\n",
      "Epoch 10/20\n",
      "363/363 [==============================] - 2s 4ms/step - loss: 0.3825 - dense_2_loss: 0.3734 - dense_3_loss: 0.4648 - dense_2_root_mean_squared_error: 0.6110 - dense_3_root_mean_squared_error: 0.6817 - val_loss: 0.7622 - val_dense_2_loss: 0.7577 - val_dense_3_loss: 0.8022 - val_dense_2_root_mean_squared_error: 0.8705 - val_dense_3_root_mean_squared_error: 0.8956\n",
      "Epoch 11/20\n",
      "363/363 [==============================] - 2s 6ms/step - loss: 0.3625 - dense_2_loss: 0.3533 - dense_3_loss: 0.4455 - dense_2_root_mean_squared_error: 0.5944 - dense_3_root_mean_squared_error: 0.6675 - val_loss: 0.4414 - val_dense_2_loss: 0.4312 - val_dense_3_loss: 0.5333 - val_dense_2_root_mean_squared_error: 0.6566 - val_dense_3_root_mean_squared_error: 0.7303\n",
      "Epoch 12/20\n",
      "363/363 [==============================] - 2s 6ms/step - loss: 0.3629 - dense_2_loss: 0.3540 - dense_3_loss: 0.4430 - dense_2_root_mean_squared_error: 0.5950 - dense_3_root_mean_squared_error: 0.6656 - val_loss: 0.3888 - val_dense_2_loss: 0.3821 - val_dense_3_loss: 0.4491 - val_dense_2_root_mean_squared_error: 0.6181 - val_dense_3_root_mean_squared_error: 0.6702\n",
      "Epoch 13/20\n",
      "363/363 [==============================] - 2s 6ms/step - loss: 0.3524 - dense_2_loss: 0.3441 - dense_3_loss: 0.4270 - dense_2_root_mean_squared_error: 0.5866 - dense_3_root_mean_squared_error: 0.6535 - val_loss: 0.3305 - val_dense_2_loss: 0.3209 - val_dense_3_loss: 0.4172 - val_dense_2_root_mean_squared_error: 0.5665 - val_dense_3_root_mean_squared_error: 0.6459\n",
      "Epoch 14/20\n",
      "363/363 [==============================] - 1s 4ms/step - loss: 0.3471 - dense_2_loss: 0.3388 - dense_3_loss: 0.4215 - dense_2_root_mean_squared_error: 0.5821 - dense_3_root_mean_squared_error: 0.6492 - val_loss: 0.6191 - val_dense_2_loss: 0.6090 - val_dense_3_loss: 0.7101 - val_dense_2_root_mean_squared_error: 0.7804 - val_dense_3_root_mean_squared_error: 0.8427\n",
      "Epoch 15/20\n",
      "363/363 [==============================] - 2s 7ms/step - loss: 0.3478 - dense_2_loss: 0.3405 - dense_3_loss: 0.4136 - dense_2_root_mean_squared_error: 0.5835 - dense_3_root_mean_squared_error: 0.6431 - val_loss: 0.4757 - val_dense_2_loss: 0.4655 - val_dense_3_loss: 0.5676 - val_dense_2_root_mean_squared_error: 0.6823 - val_dense_3_root_mean_squared_error: 0.7534\n",
      "Epoch 16/20\n",
      "363/363 [==============================] - 2s 7ms/step - loss: 0.3426 - dense_2_loss: 0.3353 - dense_3_loss: 0.4082 - dense_2_root_mean_squared_error: 0.5791 - dense_3_root_mean_squared_error: 0.6389 - val_loss: 1.2899 - val_dense_2_loss: 1.2851 - val_dense_3_loss: 1.3328 - val_dense_2_root_mean_squared_error: 1.1336 - val_dense_3_root_mean_squared_error: 1.1545\n",
      "Epoch 17/20\n",
      "363/363 [==============================] - 3s 7ms/step - loss: 0.3471 - dense_2_loss: 0.3401 - dense_3_loss: 0.4101 - dense_2_root_mean_squared_error: 0.5832 - dense_3_root_mean_squared_error: 0.6404 - val_loss: 1.6734 - val_dense_2_loss: 1.6828 - val_dense_3_loss: 1.5894 - val_dense_2_root_mean_squared_error: 1.2972 - val_dense_3_root_mean_squared_error: 1.2607\n",
      "Epoch 18/20\n",
      "363/363 [==============================] - 3s 7ms/step - loss: 0.3470 - dense_2_loss: 0.3402 - dense_3_loss: 0.4084 - dense_2_root_mean_squared_error: 0.5832 - dense_3_root_mean_squared_error: 0.6391 - val_loss: 1.1047 - val_dense_2_loss: 1.1171 - val_dense_3_loss: 0.9933 - val_dense_2_root_mean_squared_error: 1.0569 - val_dense_3_root_mean_squared_error: 0.9967\n",
      "Epoch 19/20\n",
      "363/363 [==============================] - 2s 4ms/step - loss: 0.3415 - dense_2_loss: 0.3351 - dense_3_loss: 0.3986 - dense_2_root_mean_squared_error: 0.5789 - dense_3_root_mean_squared_error: 0.6313 - val_loss: 0.8908 - val_dense_2_loss: 0.9164 - val_dense_3_loss: 0.6600 - val_dense_2_root_mean_squared_error: 0.9573 - val_dense_3_root_mean_squared_error: 0.8124\n",
      "Epoch 20/20\n",
      "363/363 [==============================] - 2s 5ms/step - loss: 0.3428 - dense_2_loss: 0.3365 - dense_3_loss: 0.3993 - dense_2_root_mean_squared_error: 0.5801 - dense_3_root_mean_squared_error: 0.6319 - val_loss: 0.6072 - val_dense_2_loss: 0.6130 - val_dense_3_loss: 0.5557 - val_dense_2_root_mean_squared_error: 0.7829 - val_dense_3_root_mean_squared_error: 0.7455\n"
     ]
    }
   ],
   "source": [
    "tf.keras.backend.clear_session()\n",
    "tf.random.set_seed(42)\n",
    "\n",
    "input_wide = tf.keras.layers.Input(shape=[5])  # features 0 to 4\n",
    "input_deep = tf.keras.layers.Input(shape=[6])  # features 2 to 7\n",
    "norm_layer_wide = tf.keras.layers.Normalization()\n",
    "norm_layer_deep = tf.keras.layers.Normalization()\n",
    "norm_wide = norm_layer_wide(input_wide)\n",
    "norm_deep = norm_layer_deep(input_deep)\n",
    "hidden1 = tf.keras.layers.Dense(30, activation=\"relu\")(norm_deep)\n",
    "hidden2 = tf.keras.layers.Dense(30, activation=\"relu\")(hidden1)\n",
    "concat = tf.keras.layers.concatenate([norm_wide, hidden2])\n",
    "output = tf.keras.layers.Dense(1)(concat)\n",
    "aux_output = tf.keras.layers.Dense(1)(hidden2)\n",
    "model = tf.keras.Model(inputs=[input_wide, input_deep],\n",
    "                       outputs=[output, aux_output])\n",
    "\n",
    "optimizer = tf.keras.optimizers.Adam(learning_rate=1e-3)\n",
    "model.compile(loss=(\"mse\", \"mse\"), loss_weights=(0.9, 0.1), optimizer=optimizer,\n",
    "              metrics=[\"RootMeanSquaredError\"])\n",
    "\n",
    "norm_layer_wide.adapt(X_train_wide)\n",
    "norm_layer_deep.adapt(X_train_deep)\n",
    "history = model.fit(\n",
    "    (X_train_wide, X_train_deep), (y_train, y_train), epochs=20,\n",
    "    validation_data=((X_valid_wide, X_valid_deep), (y_valid, y_valid))\n",
    ")"
   ]
  },
  {
   "cell_type": "markdown",
   "metadata": {},
   "source": [
    "When you evaluate the model, Keras returns the weighted sum of the\n",
    "losses, as well as all the individual losses and metrics"
   ]
  },
  {
   "cell_type": "code",
   "execution_count": 20,
   "metadata": {},
   "outputs": [
    {
     "name": "stdout",
     "output_type": "stream",
     "text": [
      "162/162 [==============================] - 1s 4ms/step - loss: 0.3342 - dense_2_loss: 0.3276 - dense_3_loss: 0.3933 - dense_2_root_mean_squared_error: 0.5724 - dense_3_root_mean_squared_error: 0.6272\n"
     ]
    }
   ],
   "source": [
    "eval_results = model.evaluate((X_test_wide, X_test_deep), (y_test, y_test))\n",
    "weighted_sum_of_losses, main_loss, aux_loss, main_rmse, aux_rmse = eval_results"
   ]
  },
  {
   "cell_type": "code",
   "execution_count": 21,
   "metadata": {},
   "outputs": [
    {
     "name": "stdout",
     "output_type": "stream",
     "text": [
      "WARNING:tensorflow:5 out of the last 5 calls to <function Model.make_predict_function.<locals>.predict_function at 0x00000201BCC47940> triggered tf.function retracing. Tracing is expensive and the excessive number of tracings could be due to (1) creating @tf.function repeatedly in a loop, (2) passing tensors with different shapes, (3) passing Python objects instead of tensors. For (1), please define your @tf.function outside of the loop. For (2), @tf.function has reduce_retracing=True option that can avoid unnecessary retracing. For (3), please refer to https://www.tensorflow.org/guide/function#controlling_retracing and https://www.tensorflow.org/api_docs/python/tf/function for  more details.\n",
      "1/1 [==============================] - 0s 287ms/step\n"
     ]
    }
   ],
   "source": [
    "y_pred_main, y_pred_aux = model.predict((X_new_wide, X_new_deep))"
   ]
  },
  {
   "cell_type": "markdown",
   "metadata": {},
   "source": [
    "## Using the Subclassing API to Build Dynamic Models"
   ]
  },
  {
   "cell_type": "code",
   "execution_count": 27,
   "metadata": {},
   "outputs": [],
   "source": [
    "class wideAndDeepModel(tf.keras.Model):\n",
    "    def __init__(self, units=30, activation='relu', **kwargs):\n",
    "        super().__init__(**kwargs) # needed to support naming the model\n",
    "        self.norm_layer_wide = tf.keras.layers.Normalization()\n",
    "        self.norm_layer_deep = tf.keras.layers.Normalization()\n",
    "        self.hidden1 = tf.keras.layers.Dense(units, activation=activation)\n",
    "        self.hidden2 = tf.keras.layers.Dense(units, activation=activation)\n",
    "        self.main_output = tf.keras.layers.Dense(1)\n",
    "        self.aux_output = tf.keras.layers.Dense(1)\n",
    "\n",
    "\n",
    "    def call(self, inputs):\n",
    "        input_wide, input_deep = inputs\n",
    "        norm_wide = self.norm_layer_wide(input_wide)\n",
    "        norm_deep = self.norm_layer_deep(input_deep)\n",
    "        hidden1 = self.hidden1(norm_deep)\n",
    "        hidden2 = self.hidden2(hidden1)\n",
    "        concat = tf.keras.layers.concatenate([norm_wide, hidden2])\n",
    "        output = self.main_output(concat)\n",
    "        aux_output = self.aux_output(hidden2)\n",
    "        return output, aux_output\n",
    "\n",
    "\n",
    "tf.random.set_seed(42)\n",
    "model = wideAndDeepModel(30 , activation='relu', name='my_cool_model')"
   ]
  },
  {
   "cell_type": "code",
   "execution_count": 28,
   "metadata": {},
   "outputs": [
    {
     "name": "stdout",
     "output_type": "stream",
     "text": [
      "Epoch 1/10\n",
      "363/363 [==============================] - 3s 5ms/step - loss: 1.5310 - output_1_loss: 1.4715 - output_2_loss: 2.0669 - output_1_root_mean_squared_error: 1.2130 - output_2_root_mean_squared_error: 1.4377 - val_loss: 1.5722 - val_output_1_loss: 1.2918 - val_output_2_loss: 4.0960 - val_output_1_root_mean_squared_error: 1.1366 - val_output_2_root_mean_squared_error: 2.0239\n",
      "Epoch 2/10\n",
      "363/363 [==============================] - 2s 6ms/step - loss: 0.5741 - output_1_loss: 0.5501 - output_2_loss: 0.7899 - output_1_root_mean_squared_error: 0.7417 - output_2_root_mean_squared_error: 0.8888 - val_loss: 0.6589 - val_output_1_loss: 0.5244 - val_output_2_loss: 1.8692 - val_output_1_root_mean_squared_error: 0.7241 - val_output_2_root_mean_squared_error: 1.3672\n",
      "Epoch 3/10\n",
      "363/363 [==============================] - 1s 4ms/step - loss: 0.4719 - output_1_loss: 0.4579 - output_2_loss: 0.5985 - output_1_root_mean_squared_error: 0.6767 - output_2_root_mean_squared_error: 0.7736 - val_loss: 0.5397 - val_output_1_loss: 0.4749 - val_output_2_loss: 1.1227 - val_output_1_root_mean_squared_error: 0.6891 - val_output_2_root_mean_squared_error: 1.0596\n",
      "Epoch 4/10\n",
      "363/363 [==============================] - 1s 3ms/step - loss: 0.4369 - output_1_loss: 0.4236 - output_2_loss: 0.5565 - output_1_root_mean_squared_error: 0.6508 - output_2_root_mean_squared_error: 0.7460 - val_loss: 0.4561 - val_output_1_loss: 0.4456 - val_output_2_loss: 0.5506 - val_output_1_root_mean_squared_error: 0.6675 - val_output_2_root_mean_squared_error: 0.7420\n",
      "Epoch 5/10\n",
      "363/363 [==============================] - 2s 5ms/step - loss: 0.4128 - output_1_loss: 0.4001 - output_2_loss: 0.5273 - output_1_root_mean_squared_error: 0.6325 - output_2_root_mean_squared_error: 0.7262 - val_loss: 0.4666 - val_output_1_loss: 0.4443 - val_output_2_loss: 0.6677 - val_output_1_root_mean_squared_error: 0.6666 - val_output_2_root_mean_squared_error: 0.8171\n",
      "Epoch 6/10\n",
      "363/363 [==============================] - 2s 4ms/step - loss: 0.3985 - output_1_loss: 0.3859 - output_2_loss: 0.5113 - output_1_root_mean_squared_error: 0.6212 - output_2_root_mean_squared_error: 0.7150 - val_loss: 0.3759 - val_output_1_loss: 0.3642 - val_output_2_loss: 0.4811 - val_output_1_root_mean_squared_error: 0.6035 - val_output_2_root_mean_squared_error: 0.6936\n",
      "Epoch 7/10\n",
      "363/363 [==============================] - 1s 3ms/step - loss: 0.3879 - output_1_loss: 0.3760 - output_2_loss: 0.4946 - output_1_root_mean_squared_error: 0.6132 - output_2_root_mean_squared_error: 0.7033 - val_loss: 0.4477 - val_output_1_loss: 0.4330 - val_output_2_loss: 0.5804 - val_output_1_root_mean_squared_error: 0.6580 - val_output_2_root_mean_squared_error: 0.7618\n",
      "Epoch 8/10\n",
      "363/363 [==============================] - 2s 5ms/step - loss: 0.3815 - output_1_loss: 0.3704 - output_2_loss: 0.4823 - output_1_root_mean_squared_error: 0.6086 - output_2_root_mean_squared_error: 0.6945 - val_loss: 0.7985 - val_output_1_loss: 0.8308 - val_output_2_loss: 0.5078 - val_output_1_root_mean_squared_error: 0.9115 - val_output_2_root_mean_squared_error: 0.7126\n",
      "Epoch 9/10\n",
      "363/363 [==============================] - 2s 4ms/step - loss: 0.3761 - output_1_loss: 0.3655 - output_2_loss: 0.4719 - output_1_root_mean_squared_error: 0.6045 - output_2_root_mean_squared_error: 0.6870 - val_loss: 2.2039 - val_output_1_loss: 2.2280 - val_output_2_loss: 1.9865 - val_output_1_root_mean_squared_error: 1.4927 - val_output_2_root_mean_squared_error: 1.4094\n",
      "Epoch 10/10\n",
      "363/363 [==============================] - 1s 3ms/step - loss: 0.3891 - output_1_loss: 0.3797 - output_2_loss: 0.4739 - output_1_root_mean_squared_error: 0.6162 - output_2_root_mean_squared_error: 0.6884 - val_loss: 1.1158 - val_output_1_loss: 1.1404 - val_output_2_loss: 0.8943 - val_output_1_root_mean_squared_error: 1.0679 - val_output_2_root_mean_squared_error: 0.9457\n",
      "162/162 [==============================] - 1s 4ms/step - loss: 0.3678 - output_1_loss: 0.3591 - output_2_loss: 0.4463 - output_1_root_mean_squared_error: 0.5993 - output_2_root_mean_squared_error: 0.6681\n",
      "WARNING:tensorflow:6 out of the last 6 calls to <function Model.make_predict_function.<locals>.predict_function at 0x000002019C60D160> triggered tf.function retracing. Tracing is expensive and the excessive number of tracings could be due to (1) creating @tf.function repeatedly in a loop, (2) passing tensors with different shapes, (3) passing Python objects instead of tensors. For (1), please define your @tf.function outside of the loop. For (2), @tf.function has reduce_retracing=True option that can avoid unnecessary retracing. For (3), please refer to https://www.tensorflow.org/guide/function#controlling_retracing and https://www.tensorflow.org/api_docs/python/tf/function for  more details.\n",
      "1/1 [==============================] - 0s 289ms/step\n"
     ]
    }
   ],
   "source": [
    "model.compile(loss='mse', loss_weights=[.9, .1], optimizer=tf.keras.optimizers.Adam(learning_rate=1e-3), metrics=['RootMeanSquaredError'])\n",
    "model.norm_layer_wide.adapt(X_train_wide)\n",
    "model.norm_layer_deep.adapt(X_train_deep)\n",
    "history = model.fit(\n",
    "    (X_train_wide, X_train_deep), (y_train, y_train), epochs=10,\n",
    "    validation_data=((X_valid_wide, X_valid_deep), (y_valid, y_valid)))\n",
    "eval_results = model.evaluate((X_test_wide, X_test_deep), (y_test, y_test))\n",
    "weighted_sum_of_losses, main_loss, aux_loss, main_rmse, aux_rmse = eval_results\n",
    "y_pred_main, y_pred_aux = model.predict((X_new_wide, X_new_deep))\n"
   ]
  },
  {
   "cell_type": "markdown",
   "metadata": {},
   "source": [
    "## Saving and Restoring a Model"
   ]
  },
  {
   "cell_type": "code",
   "execution_count": 30,
   "metadata": {},
   "outputs": [
    {
     "name": "stdout",
     "output_type": "stream",
     "text": [
      "INFO:tensorflow:Assets written to: my_keras_model\\assets\n",
      "my_keras_model\\assets\n",
      "my_keras_model\\keras_metadata.pb\n",
      "my_keras_model\\saved_model.pb\n",
      "my_keras_model\\variables\n",
      "my_keras_model\\variables\\variables.data-00000-of-00001\n",
      "my_keras_model\\variables\\variables.index\n",
      "1/1 [==============================] - 0s 328ms/step\n",
      "my_weights.data-00000-of-00001\n",
      "my_weights.index\n"
     ]
    }
   ],
   "source": [
    "# extra code – delete the directory, in case it already exists\n",
    "\n",
    "import shutil\n",
    "\n",
    "shutil.rmtree(\"my_keras_model\", ignore_errors=True)\n",
    "\n",
    "\n",
    "model.save(\"my_keras_model\")\n",
    "\n",
    "\n",
    "from pathlib import Path\n",
    "\n",
    "# extra code – show the contents of the my_keras_model/ directory\n",
    "for path in sorted(Path(\"my_keras_model\").glob(\"**/*\")):\n",
    "    print(path)\n",
    "\n",
    "model = tf.keras.models.load_model(\"my_keras_model\")\n",
    "y_pred_main, y_pred_aux = model.predict((X_new_wide, X_new_deep))\n",
    "\n",
    "model.save_weights(\"my_weights\")\n",
    "\n",
    "model.load_weights(\"my_weights\")\n",
    "\n",
    "# extra code – show the list of my_weights.* files\n",
    "for path in sorted(Path().glob(\"my_weights.*\")):\n",
    "    print(path)"
   ]
  },
  {
   "cell_type": "markdown",
   "metadata": {},
   "source": [
    "## Using Callbacks"
   ]
  },
  {
   "cell_type": "code",
   "execution_count": 31,
   "metadata": {},
   "outputs": [],
   "source": [
    "shutil.rmtree(\"my_checkpoints\", ignore_errors=True)  # extra code"
   ]
  },
  {
   "cell_type": "code",
   "execution_count": 32,
   "metadata": {},
   "outputs": [
    {
     "name": "stdout",
     "output_type": "stream",
     "text": [
      "Epoch 1/10\n",
      "363/363 [==============================] - 4s 6ms/step - loss: 0.3652 - output_1_loss: 0.3555 - output_2_loss: 0.4526 - output_1_root_mean_squared_error: 0.5962 - output_2_root_mean_squared_error: 0.6728 - val_loss: 0.6096 - val_output_1_loss: 0.6019 - val_output_2_loss: 0.6791 - val_output_1_root_mean_squared_error: 0.7758 - val_output_2_root_mean_squared_error: 0.8241\n",
      "Epoch 2/10\n",
      "363/363 [==============================] - 3s 7ms/step - loss: 0.3703 - output_1_loss: 0.3614 - output_2_loss: 0.4502 - output_1_root_mean_squared_error: 0.6011 - output_2_root_mean_squared_error: 0.6710 - val_loss: 0.5310 - val_output_1_loss: 0.5379 - val_output_2_loss: 0.4693 - val_output_1_root_mean_squared_error: 0.7334 - val_output_2_root_mean_squared_error: 0.6851\n",
      "Epoch 3/10\n",
      "363/363 [==============================] - 2s 4ms/step - loss: 0.3595 - output_1_loss: 0.3510 - output_2_loss: 0.4357 - output_1_root_mean_squared_error: 0.5925 - output_2_root_mean_squared_error: 0.6601 - val_loss: 1.3756 - val_output_1_loss: 1.3745 - val_output_2_loss: 1.3854 - val_output_1_root_mean_squared_error: 1.1724 - val_output_2_root_mean_squared_error: 1.1770\n",
      "Epoch 4/10\n",
      "363/363 [==============================] - 2s 5ms/step - loss: 0.3615 - output_1_loss: 0.3531 - output_2_loss: 0.4377 - output_1_root_mean_squared_error: 0.5942 - output_2_root_mean_squared_error: 0.6616 - val_loss: 1.3729 - val_output_1_loss: 1.4426 - val_output_2_loss: 0.7455 - val_output_1_root_mean_squared_error: 1.2011 - val_output_2_root_mean_squared_error: 0.8634\n",
      "Epoch 5/10\n",
      "363/363 [==============================] - 2s 6ms/step - loss: 0.3595 - output_1_loss: 0.3519 - output_2_loss: 0.4279 - output_1_root_mean_squared_error: 0.5932 - output_2_root_mean_squared_error: 0.6541 - val_loss: 1.8440 - val_output_1_loss: 1.6733 - val_output_2_loss: 3.3800 - val_output_1_root_mean_squared_error: 1.2936 - val_output_2_root_mean_squared_error: 1.8385\n",
      "Epoch 6/10\n",
      "363/363 [==============================] - 2s 5ms/step - loss: 0.3613 - output_1_loss: 0.3522 - output_2_loss: 0.4426 - output_1_root_mean_squared_error: 0.5935 - output_2_root_mean_squared_error: 0.6653 - val_loss: 0.8581 - val_output_1_loss: 0.8439 - val_output_2_loss: 0.9854 - val_output_1_root_mean_squared_error: 0.9186 - val_output_2_root_mean_squared_error: 0.9927\n",
      "Epoch 7/10\n",
      "363/363 [==============================] - 2s 7ms/step - loss: 0.3509 - output_1_loss: 0.3429 - output_2_loss: 0.4229 - output_1_root_mean_squared_error: 0.5856 - output_2_root_mean_squared_error: 0.6503 - val_loss: 0.5987 - val_output_1_loss: 0.5647 - val_output_2_loss: 0.9050 - val_output_1_root_mean_squared_error: 0.7515 - val_output_2_root_mean_squared_error: 0.9513\n",
      "Epoch 8/10\n",
      "363/363 [==============================] - 1s 3ms/step - loss: 0.3467 - output_1_loss: 0.3391 - output_2_loss: 0.4151 - output_1_root_mean_squared_error: 0.5823 - output_2_root_mean_squared_error: 0.6443 - val_loss: 0.7390 - val_output_1_loss: 0.7518 - val_output_2_loss: 0.6244 - val_output_1_root_mean_squared_error: 0.8671 - val_output_2_root_mean_squared_error: 0.7902\n",
      "Epoch 9/10\n",
      "363/363 [==============================] - 2s 6ms/step - loss: 0.3462 - output_1_loss: 0.3387 - output_2_loss: 0.4133 - output_1_root_mean_squared_error: 0.5820 - output_2_root_mean_squared_error: 0.6429 - val_loss: 1.2337 - val_output_1_loss: 1.1344 - val_output_2_loss: 2.1277 - val_output_1_root_mean_squared_error: 1.0651 - val_output_2_root_mean_squared_error: 1.4587\n",
      "Epoch 10/10\n",
      "363/363 [==============================] - 2s 6ms/step - loss: 0.3544 - output_1_loss: 0.3469 - output_2_loss: 0.4218 - output_1_root_mean_squared_error: 0.5890 - output_2_root_mean_squared_error: 0.6494 - val_loss: 0.6157 - val_output_1_loss: 0.6078 - val_output_2_loss: 0.6866 - val_output_1_root_mean_squared_error: 0.7796 - val_output_2_root_mean_squared_error: 0.8286\n"
     ]
    }
   ],
   "source": [
    "checkpoint_cb = tf.keras.callbacks.ModelCheckpoint('my_checkpoints', save_weights_only=True)\n",
    "history = model.fit(\n",
    "    (X_train_wide, X_train_deep), (y_train, y_train), epochs=10,\n",
    "    validation_data=((X_valid_wide, X_valid_deep), (y_valid, y_valid)),\n",
    "    callbacks=[checkpoint_cb])"
   ]
  },
  {
   "cell_type": "code",
   "execution_count": 33,
   "metadata": {},
   "outputs": [
    {
     "name": "stdout",
     "output_type": "stream",
     "text": [
      "Epoch 1/100\n",
      "363/363 [==============================] - 2s 7ms/step - loss: 0.3428 - output_1_loss: 0.3353 - output_2_loss: 0.4108 - output_1_root_mean_squared_error: 0.5790 - output_2_root_mean_squared_error: 0.6409 - val_loss: 1.0504 - val_output_1_loss: 1.0372 - val_output_2_loss: 1.1691 - val_output_1_root_mean_squared_error: 1.0184 - val_output_2_root_mean_squared_error: 1.0813\n",
      "Epoch 2/100\n",
      "363/363 [==============================] - 1s 3ms/step - loss: 0.3481 - output_1_loss: 0.3415 - output_2_loss: 0.4078 - output_1_root_mean_squared_error: 0.5844 - output_2_root_mean_squared_error: 0.6386 - val_loss: 0.8522 - val_output_1_loss: 0.8991 - val_output_2_loss: 0.4299 - val_output_1_root_mean_squared_error: 0.9482 - val_output_2_root_mean_squared_error: 0.6557\n",
      "Epoch 3/100\n",
      "363/363 [==============================] - 3s 8ms/step - loss: 0.3430 - output_1_loss: 0.3366 - output_2_loss: 0.4011 - output_1_root_mean_squared_error: 0.5801 - output_2_root_mean_squared_error: 0.6333 - val_loss: 1.0904 - val_output_1_loss: 1.0987 - val_output_2_loss: 1.0160 - val_output_1_root_mean_squared_error: 1.0482 - val_output_2_root_mean_squared_error: 1.0080\n",
      "Epoch 4/100\n",
      "363/363 [==============================] - 2s 6ms/step - loss: 0.3417 - output_1_loss: 0.3350 - output_2_loss: 0.4019 - output_1_root_mean_squared_error: 0.5788 - output_2_root_mean_squared_error: 0.6339 - val_loss: 0.6882 - val_output_1_loss: 0.7089 - val_output_2_loss: 0.5023 - val_output_1_root_mean_squared_error: 0.8420 - val_output_2_root_mean_squared_error: 0.7088\n",
      "Epoch 5/100\n",
      "363/363 [==============================] - 1s 3ms/step - loss: 0.3406 - output_1_loss: 0.3341 - output_2_loss: 0.3985 - output_1_root_mean_squared_error: 0.5780 - output_2_root_mean_squared_error: 0.6313 - val_loss: 0.8886 - val_output_1_loss: 0.8032 - val_output_2_loss: 1.6578 - val_output_1_root_mean_squared_error: 0.8962 - val_output_2_root_mean_squared_error: 1.2875\n",
      "Epoch 6/100\n",
      "363/363 [==============================] - 3s 8ms/step - loss: 0.3363 - output_1_loss: 0.3293 - output_2_loss: 0.3997 - output_1_root_mean_squared_error: 0.5738 - output_2_root_mean_squared_error: 0.6322 - val_loss: 0.5324 - val_output_1_loss: 0.5388 - val_output_2_loss: 0.4749 - val_output_1_root_mean_squared_error: 0.7340 - val_output_2_root_mean_squared_error: 0.6892\n",
      "Epoch 7/100\n",
      "363/363 [==============================] - 3s 8ms/step - loss: 0.3358 - output_1_loss: 0.3293 - output_2_loss: 0.3946 - output_1_root_mean_squared_error: 0.5738 - output_2_root_mean_squared_error: 0.6282 - val_loss: 0.6103 - val_output_1_loss: 0.5643 - val_output_2_loss: 1.0247 - val_output_1_root_mean_squared_error: 0.7512 - val_output_2_root_mean_squared_error: 1.0123\n",
      "Epoch 8/100\n",
      "363/363 [==============================] - 3s 8ms/step - loss: 0.3322 - output_1_loss: 0.3257 - output_2_loss: 0.3913 - output_1_root_mean_squared_error: 0.5707 - output_2_root_mean_squared_error: 0.6256 - val_loss: 0.5525 - val_output_1_loss: 0.5562 - val_output_2_loss: 0.5188 - val_output_1_root_mean_squared_error: 0.7458 - val_output_2_root_mean_squared_error: 0.7203\n",
      "Epoch 9/100\n",
      "363/363 [==============================] - 3s 7ms/step - loss: 0.3316 - output_1_loss: 0.3251 - output_2_loss: 0.3899 - output_1_root_mean_squared_error: 0.5702 - output_2_root_mean_squared_error: 0.6245 - val_loss: 1.2120 - val_output_1_loss: 1.1173 - val_output_2_loss: 2.0650 - val_output_1_root_mean_squared_error: 1.0570 - val_output_2_root_mean_squared_error: 1.4370\n",
      "Epoch 10/100\n",
      "363/363 [==============================] - 2s 5ms/step - loss: 0.3386 - output_1_loss: 0.3320 - output_2_loss: 0.3975 - output_1_root_mean_squared_error: 0.5762 - output_2_root_mean_squared_error: 0.6305 - val_loss: 0.5538 - val_output_1_loss: 0.5551 - val_output_2_loss: 0.5413 - val_output_1_root_mean_squared_error: 0.7451 - val_output_2_root_mean_squared_error: 0.7357\n",
      "Epoch 11/100\n",
      "363/363 [==============================] - 3s 7ms/step - loss: 0.3286 - output_1_loss: 0.3222 - output_2_loss: 0.3862 - output_1_root_mean_squared_error: 0.5676 - output_2_root_mean_squared_error: 0.6215 - val_loss: 0.4973 - val_output_1_loss: 0.4714 - val_output_2_loss: 0.7311 - val_output_1_root_mean_squared_error: 0.6866 - val_output_2_root_mean_squared_error: 0.8550\n",
      "Epoch 12/100\n",
      "363/363 [==============================] - 2s 5ms/step - loss: 0.3330 - output_1_loss: 0.3269 - output_2_loss: 0.3884 - output_1_root_mean_squared_error: 0.5717 - output_2_root_mean_squared_error: 0.6232 - val_loss: 0.3466 - val_output_1_loss: 0.3433 - val_output_2_loss: 0.3768 - val_output_1_root_mean_squared_error: 0.5859 - val_output_2_root_mean_squared_error: 0.6139\n",
      "Epoch 13/100\n",
      "363/363 [==============================] - 2s 4ms/step - loss: 0.3271 - output_1_loss: 0.3210 - output_2_loss: 0.3826 - output_1_root_mean_squared_error: 0.5665 - output_2_root_mean_squared_error: 0.6185 - val_loss: 0.3958 - val_output_1_loss: 0.3671 - val_output_2_loss: 0.6539 - val_output_1_root_mean_squared_error: 0.6059 - val_output_2_root_mean_squared_error: 0.8086\n",
      "Epoch 14/100\n",
      "363/363 [==============================] - 3s 9ms/step - loss: 0.3256 - output_1_loss: 0.3192 - output_2_loss: 0.3828 - output_1_root_mean_squared_error: 0.5650 - output_2_root_mean_squared_error: 0.6187 - val_loss: 0.4835 - val_output_1_loss: 0.4752 - val_output_2_loss: 0.5580 - val_output_1_root_mean_squared_error: 0.6894 - val_output_2_root_mean_squared_error: 0.7470\n",
      "Epoch 15/100\n",
      "363/363 [==============================] - 3s 8ms/step - loss: 0.3273 - output_1_loss: 0.3211 - output_2_loss: 0.3833 - output_1_root_mean_squared_error: 0.5667 - output_2_root_mean_squared_error: 0.6191 - val_loss: 0.9795 - val_output_1_loss: 0.9385 - val_output_2_loss: 1.3482 - val_output_1_root_mean_squared_error: 0.9688 - val_output_2_root_mean_squared_error: 1.1611\n",
      "Epoch 16/100\n",
      "363/363 [==============================] - 2s 5ms/step - loss: 0.3287 - output_1_loss: 0.3226 - output_2_loss: 0.3830 - output_1_root_mean_squared_error: 0.5680 - output_2_root_mean_squared_error: 0.6189 - val_loss: 0.8077 - val_output_1_loss: 0.8157 - val_output_2_loss: 0.7362 - val_output_1_root_mean_squared_error: 0.9031 - val_output_2_root_mean_squared_error: 0.8580\n",
      "Epoch 17/100\n",
      "363/363 [==============================] - 2s 5ms/step - loss: 0.3302 - output_1_loss: 0.3240 - output_2_loss: 0.3856 - output_1_root_mean_squared_error: 0.5692 - output_2_root_mean_squared_error: 0.6210 - val_loss: 0.7574 - val_output_1_loss: 0.6958 - val_output_2_loss: 1.3117 - val_output_1_root_mean_squared_error: 0.8342 - val_output_2_root_mean_squared_error: 1.1453\n",
      "Epoch 18/100\n",
      "363/363 [==============================] - 3s 7ms/step - loss: 0.3233 - output_1_loss: 0.3171 - output_2_loss: 0.3789 - output_1_root_mean_squared_error: 0.5631 - output_2_root_mean_squared_error: 0.6156 - val_loss: 0.3837 - val_output_1_loss: 0.3831 - val_output_2_loss: 0.3896 - val_output_1_root_mean_squared_error: 0.6189 - val_output_2_root_mean_squared_error: 0.6242\n",
      "Epoch 19/100\n",
      "363/363 [==============================] - 2s 4ms/step - loss: 0.3195 - output_1_loss: 0.3137 - output_2_loss: 0.3722 - output_1_root_mean_squared_error: 0.5601 - output_2_root_mean_squared_error: 0.6101 - val_loss: 0.4189 - val_output_1_loss: 0.4154 - val_output_2_loss: 0.4499 - val_output_1_root_mean_squared_error: 0.6445 - val_output_2_root_mean_squared_error: 0.6707\n",
      "Epoch 20/100\n",
      "363/363 [==============================] - 2s 4ms/step - loss: 0.3204 - output_1_loss: 0.3146 - output_2_loss: 0.3723 - output_1_root_mean_squared_error: 0.5609 - output_2_root_mean_squared_error: 0.6102 - val_loss: 0.3372 - val_output_1_loss: 0.3336 - val_output_2_loss: 0.3696 - val_output_1_root_mean_squared_error: 0.5776 - val_output_2_root_mean_squared_error: 0.6079\n",
      "Epoch 21/100\n",
      "363/363 [==============================] - 3s 7ms/step - loss: 0.3194 - output_1_loss: 0.3138 - output_2_loss: 0.3697 - output_1_root_mean_squared_error: 0.5602 - output_2_root_mean_squared_error: 0.6080 - val_loss: 0.4142 - val_output_1_loss: 0.4089 - val_output_2_loss: 0.4616 - val_output_1_root_mean_squared_error: 0.6395 - val_output_2_root_mean_squared_error: 0.6794\n",
      "Epoch 22/100\n",
      "363/363 [==============================] - 2s 5ms/step - loss: 0.3188 - output_1_loss: 0.3131 - output_2_loss: 0.3694 - output_1_root_mean_squared_error: 0.5596 - output_2_root_mean_squared_error: 0.6078 - val_loss: 0.5932 - val_output_1_loss: 0.5954 - val_output_2_loss: 0.5740 - val_output_1_root_mean_squared_error: 0.7716 - val_output_2_root_mean_squared_error: 0.7577\n",
      "Epoch 23/100\n",
      "363/363 [==============================] - 1s 4ms/step - loss: 0.3156 - output_1_loss: 0.3100 - output_2_loss: 0.3662 - output_1_root_mean_squared_error: 0.5568 - output_2_root_mean_squared_error: 0.6051 - val_loss: 0.3045 - val_output_1_loss: 0.2985 - val_output_2_loss: 0.3579 - val_output_1_root_mean_squared_error: 0.5464 - val_output_2_root_mean_squared_error: 0.5983\n",
      "Epoch 24/100\n",
      "363/363 [==============================] - 3s 7ms/step - loss: 0.3198 - output_1_loss: 0.3143 - output_2_loss: 0.3690 - output_1_root_mean_squared_error: 0.5606 - output_2_root_mean_squared_error: 0.6074 - val_loss: 0.7297 - val_output_1_loss: 0.7395 - val_output_2_loss: 0.6416 - val_output_1_root_mean_squared_error: 0.8599 - val_output_2_root_mean_squared_error: 0.8010\n",
      "Epoch 25/100\n",
      "363/363 [==============================] - 1s 4ms/step - loss: 0.3189 - output_1_loss: 0.3134 - output_2_loss: 0.3683 - output_1_root_mean_squared_error: 0.5598 - output_2_root_mean_squared_error: 0.6069 - val_loss: 0.5728 - val_output_1_loss: 0.5655 - val_output_2_loss: 0.6380 - val_output_1_root_mean_squared_error: 0.7520 - val_output_2_root_mean_squared_error: 0.7988\n",
      "Epoch 26/100\n",
      "363/363 [==============================] - 2s 7ms/step - loss: 0.3167 - output_1_loss: 0.3112 - output_2_loss: 0.3659 - output_1_root_mean_squared_error: 0.5579 - output_2_root_mean_squared_error: 0.6049 - val_loss: 0.3233 - val_output_1_loss: 0.3194 - val_output_2_loss: 0.3588 - val_output_1_root_mean_squared_error: 0.5651 - val_output_2_root_mean_squared_error: 0.5990\n",
      "Epoch 27/100\n",
      "363/363 [==============================] - 3s 8ms/step - loss: 0.3135 - output_1_loss: 0.3082 - output_2_loss: 0.3619 - output_1_root_mean_squared_error: 0.5551 - output_2_root_mean_squared_error: 0.6016 - val_loss: 0.3579 - val_output_1_loss: 0.3462 - val_output_2_loss: 0.4633 - val_output_1_root_mean_squared_error: 0.5884 - val_output_2_root_mean_squared_error: 0.6806\n",
      "Epoch 28/100\n",
      "363/363 [==============================] - 3s 7ms/step - loss: 0.3136 - output_1_loss: 0.3082 - output_2_loss: 0.3623 - output_1_root_mean_squared_error: 0.5551 - output_2_root_mean_squared_error: 0.6019 - val_loss: 0.3318 - val_output_1_loss: 0.3289 - val_output_2_loss: 0.3577 - val_output_1_root_mean_squared_error: 0.5735 - val_output_2_root_mean_squared_error: 0.5981\n",
      "Epoch 29/100\n",
      "363/363 [==============================] - 2s 4ms/step - loss: 0.3113 - output_1_loss: 0.3058 - output_2_loss: 0.3606 - output_1_root_mean_squared_error: 0.5530 - output_2_root_mean_squared_error: 0.6005 - val_loss: 0.3903 - val_output_1_loss: 0.3861 - val_output_2_loss: 0.4282 - val_output_1_root_mean_squared_error: 0.6214 - val_output_2_root_mean_squared_error: 0.6544\n",
      "Epoch 30/100\n",
      "363/363 [==============================] - 3s 8ms/step - loss: 0.3105 - output_1_loss: 0.3052 - output_2_loss: 0.3578 - output_1_root_mean_squared_error: 0.5525 - output_2_root_mean_squared_error: 0.5981 - val_loss: 0.3023 - val_output_1_loss: 0.2949 - val_output_2_loss: 0.3689 - val_output_1_root_mean_squared_error: 0.5431 - val_output_2_root_mean_squared_error: 0.6074\n",
      "Epoch 31/100\n",
      "363/363 [==============================] - 3s 7ms/step - loss: 0.3146 - output_1_loss: 0.3095 - output_2_loss: 0.3607 - output_1_root_mean_squared_error: 0.5563 - output_2_root_mean_squared_error: 0.6005 - val_loss: 0.3371 - val_output_1_loss: 0.3298 - val_output_2_loss: 0.4031 - val_output_1_root_mean_squared_error: 0.5742 - val_output_2_root_mean_squared_error: 0.6349\n",
      "Epoch 32/100\n",
      "363/363 [==============================] - 2s 5ms/step - loss: 0.3105 - output_1_loss: 0.3053 - output_2_loss: 0.3568 - output_1_root_mean_squared_error: 0.5526 - output_2_root_mean_squared_error: 0.5973 - val_loss: 0.3062 - val_output_1_loss: 0.2999 - val_output_2_loss: 0.3634 - val_output_1_root_mean_squared_error: 0.5476 - val_output_2_root_mean_squared_error: 0.6029\n",
      "Epoch 33/100\n",
      "363/363 [==============================] - 3s 8ms/step - loss: 0.3084 - output_1_loss: 0.3031 - output_2_loss: 0.3557 - output_1_root_mean_squared_error: 0.5506 - output_2_root_mean_squared_error: 0.5964 - val_loss: 0.4243 - val_output_1_loss: 0.4207 - val_output_2_loss: 0.4569 - val_output_1_root_mean_squared_error: 0.6486 - val_output_2_root_mean_squared_error: 0.6759\n",
      "Epoch 34/100\n",
      "363/363 [==============================] - 1s 4ms/step - loss: 0.3077 - output_1_loss: 0.3027 - output_2_loss: 0.3530 - output_1_root_mean_squared_error: 0.5502 - output_2_root_mean_squared_error: 0.5941 - val_loss: 0.7755 - val_output_1_loss: 0.8050 - val_output_2_loss: 0.5099 - val_output_1_root_mean_squared_error: 0.8972 - val_output_2_root_mean_squared_error: 0.7140\n",
      "Epoch 35/100\n",
      "363/363 [==============================] - 2s 6ms/step - loss: 0.3123 - output_1_loss: 0.3074 - output_2_loss: 0.3563 - output_1_root_mean_squared_error: 0.5545 - output_2_root_mean_squared_error: 0.5969 - val_loss: 0.8188 - val_output_1_loss: 0.7916 - val_output_2_loss: 1.0640 - val_output_1_root_mean_squared_error: 0.8897 - val_output_2_root_mean_squared_error: 1.0315\n",
      "Epoch 36/100\n",
      "363/363 [==============================] - 3s 7ms/step - loss: 0.3110 - output_1_loss: 0.3056 - output_2_loss: 0.3593 - output_1_root_mean_squared_error: 0.5528 - output_2_root_mean_squared_error: 0.5994 - val_loss: 0.7249 - val_output_1_loss: 0.6979 - val_output_2_loss: 0.9677 - val_output_1_root_mean_squared_error: 0.8354 - val_output_2_root_mean_squared_error: 0.9837\n",
      "Epoch 37/100\n",
      "363/363 [==============================] - 2s 5ms/step - loss: 0.3099 - output_1_loss: 0.3046 - output_2_loss: 0.3582 - output_1_root_mean_squared_error: 0.5519 - output_2_root_mean_squared_error: 0.5985 - val_loss: 0.6647 - val_output_1_loss: 0.6957 - val_output_2_loss: 0.3856 - val_output_1_root_mean_squared_error: 0.8341 - val_output_2_root_mean_squared_error: 0.6210\n",
      "Epoch 38/100\n",
      "363/363 [==============================] - 3s 7ms/step - loss: 0.3065 - output_1_loss: 0.3015 - output_2_loss: 0.3510 - output_1_root_mean_squared_error: 0.5491 - output_2_root_mean_squared_error: 0.5925 - val_loss: 0.3943 - val_output_1_loss: 0.3975 - val_output_2_loss: 0.3659 - val_output_1_root_mean_squared_error: 0.6305 - val_output_2_root_mean_squared_error: 0.6049\n",
      "Epoch 39/100\n",
      "363/363 [==============================] - 3s 8ms/step - loss: 0.3063 - output_1_loss: 0.3013 - output_2_loss: 0.3517 - output_1_root_mean_squared_error: 0.5489 - output_2_root_mean_squared_error: 0.5930 - val_loss: 0.3571 - val_output_1_loss: 0.3490 - val_output_2_loss: 0.4296 - val_output_1_root_mean_squared_error: 0.5908 - val_output_2_root_mean_squared_error: 0.6554\n",
      "Epoch 40/100\n",
      "363/363 [==============================] - 3s 8ms/step - loss: 0.3020 - output_1_loss: 0.2970 - output_2_loss: 0.3468 - output_1_root_mean_squared_error: 0.5450 - output_2_root_mean_squared_error: 0.5889 - val_loss: 0.3292 - val_output_1_loss: 0.3255 - val_output_2_loss: 0.3626 - val_output_1_root_mean_squared_error: 0.5705 - val_output_2_root_mean_squared_error: 0.6021\n"
     ]
    }
   ],
   "source": [
    "early_stopping_cb = tf.keras.callbacks.EarlyStopping(patience=10, restore_best_weights=True)\n",
    "history = model.fit(\n",
    "    (X_train_wide, X_train_deep), (y_train, y_train), epochs=100,\n",
    "    validation_data=((X_valid_wide, X_valid_deep), (y_valid, y_valid)),\n",
    "    callbacks=[checkpoint_cb, early_stopping_cb])"
   ]
  },
  {
   "cell_type": "code",
   "execution_count": 35,
   "metadata": {},
   "outputs": [],
   "source": [
    "class PrintValTrainRatioCallback(tf.keras.callbacks.Callback):\n",
    "    def on_epoch_end(self, epoch, logs):\n",
    "        ratio = logs['val_loss'] / logs['loss']\n",
    "        print(f\"Epoch={epoch} val/train={ratio:.2f}\")"
   ]
  },
  {
   "cell_type": "code",
   "execution_count": 36,
   "metadata": {},
   "outputs": [
    {
     "name": "stdout",
     "output_type": "stream",
     "text": [
      "Epoch=0 val/train=1.05\n",
      "Epoch=1 val/train=1.02\n",
      "Epoch=2 val/train=1.06\n",
      "Epoch=3 val/train=1.70\n",
      "Epoch=4 val/train=1.63\n",
      "Epoch=5 val/train=1.97\n",
      "Epoch=6 val/train=3.32\n",
      "Epoch=7 val/train=1.72\n",
      "Epoch=8 val/train=1.79\n",
      "Epoch=9 val/train=0.96\n"
     ]
    }
   ],
   "source": [
    "val_train_ratio_cb = PrintValTrainRatioCallback()\n",
    "history = model.fit(\n",
    "    (X_train_wide, X_train_deep), (y_train, y_train), epochs=10,\n",
    "    validation_data=((X_valid_wide, X_valid_deep), (y_valid, y_valid)),\n",
    "    callbacks=[val_train_ratio_cb], verbose=0)"
   ]
  },
  {
   "cell_type": "markdown",
   "metadata": {},
   "source": [
    "## Using TensorBoard for Visualization"
   ]
  },
  {
   "cell_type": "code",
   "execution_count": null,
   "metadata": {},
   "outputs": [],
   "source": []
  },
  {
   "cell_type": "markdown",
   "metadata": {},
   "source": [
    "# Fine-Tuning Neural Network Hyperparameters"
   ]
  },
  {
   "cell_type": "code",
   "execution_count": 39,
   "metadata": {},
   "outputs": [],
   "source": [
    "(X_train_full, y_train_full), (X_test, y_test) = fashion_minst\n",
    "X_train, y_train = X_train_full[:-5000], y_train_full[:-5000]\n",
    "X_valid, y_valid = X_train_full[-5000:], y_train_full[-5000:]\n",
    "\n",
    "tf.keras.backend.clear_session()\n",
    "tf.random.set_seed(42)"
   ]
  },
  {
   "cell_type": "markdown",
   "metadata": {},
   "source": [
    "The first part of the function defines the hyperparameters. For example,\n",
    "`hp.Int(\"n_hidden\", min_value=0, max_value=8,\n",
    "default=2)` checks whether a hyperparameter named \"n_hidden\" is\n",
    "already present in the HyperParameters object hp, and if so it returns\n",
    "its value.  \n",
    "If not, then it registers a new integer hyperparameter named\n",
    "\"n_hidden\", whose possible values range from 0 to 8 (inclusive), and it\n",
    "returns the default value, which is 2 in this case (when default is not set,\n",
    "then min_value is returned)."
   ]
  },
  {
   "cell_type": "code",
   "execution_count": 41,
   "metadata": {},
   "outputs": [],
   "source": [
    "import keras_tuner as kt\n",
    "\n",
    "def build_model(hp):\n",
    "    n_hidden = hp.Int('n_hidden', min_value=0, max_value=8, default=2)\n",
    "    n_neurons = hp.Int('n_nuerons', min_value=16, max_value=256)\n",
    "    learning_rate = hp.Float('learning_rate', min_value=1e-4, max_value=1e-2, sampling='log')\n",
    "    optimizer = hp.Choice('optimizer', values=['sgd', 'adam'])\n",
    "    if optimizer == \"sgd\":\n",
    "        optimizer = tf.keras.optimizers.SGD(learning_rate=learning_rate)\n",
    "    else:\n",
    "        optimizer = tf.keras.optimizers.Adam(learning_rate=learning_rate)\n",
    "\n",
    "    model = tf.keras.Sequential()\n",
    "    model.add(tf.keras.layers.Flatten())\n",
    "    for _ in range(n_hidden):\n",
    "        model.add(tf.keras.layers.Dense(n_neurons, activation=\"relu\"))\n",
    "    model.add(tf.keras.layers.Dense(10, activation=\"softmax\"))\n",
    "    model.compile(loss=\"sparse_categorical_crossentropy\", optimizer=optimizer,\n",
    "                  metrics=[\"accuracy\"])\n",
    "    return model"
   ]
  },
  {
   "cell_type": "code",
   "execution_count": 42,
   "metadata": {},
   "outputs": [
    {
     "name": "stdout",
     "output_type": "stream",
     "text": [
      "Trial 5 Complete [00h 01m 30s]\n",
      "val_accuracy: 0.8754000067710876\n",
      "\n",
      "Best val_accuracy So Far: 0.8754000067710876\n",
      "Total elapsed time: 00h 08m 02s\n",
      "INFO:tensorflow:Oracle triggered exit\n"
     ]
    }
   ],
   "source": [
    "random_search_tuner = kt.RandomSearch(build_model, objective='val_accuracy', max_trials=5, overwrite=True,\n",
    "    directory=\"my_fashion_mnist\", project_name=\"my_rnd_search\", seed=42)\n",
    "random_search_tuner.search(X_train, y_train, epochs=10, validation_data=(X_valid, y_valid))"
   ]
  },
  {
   "cell_type": "code",
   "execution_count": 45,
   "metadata": {},
   "outputs": [
    {
     "name": "stdout",
     "output_type": "stream",
     "text": [
      "WARNING:tensorflow:Detecting that an object or model or tf.train.Checkpoint is being deleted with unrestored values. See the following logs for the specific values in question. To silence these warnings, use `status.expect_partial()`. See https://www.tensorflow.org/api_docs/python/tf/train/Checkpoint#restorefor details about the status object returned by the restore function.\n",
      "WARNING:tensorflow:Value in checkpoint could not be found in the restored object: (root).layer_with_weights-0.kernel\n",
      "WARNING:tensorflow:Value in checkpoint could not be found in the restored object: (root).layer_with_weights-0.bias\n",
      "WARNING:tensorflow:Value in checkpoint could not be found in the restored object: (root).layer_with_weights-1.kernel\n",
      "WARNING:tensorflow:Value in checkpoint could not be found in the restored object: (root).layer_with_weights-1.bias\n",
      "WARNING:tensorflow:Value in checkpoint could not be found in the restored object: (root).layer_with_weights-2.kernel\n",
      "WARNING:tensorflow:Value in checkpoint could not be found in the restored object: (root).layer_with_weights-2.bias\n",
      "WARNING:tensorflow:Value in checkpoint could not be found in the restored object: (root).layer_with_weights-3.kernel\n",
      "WARNING:tensorflow:Value in checkpoint could not be found in the restored object: (root).layer_with_weights-3.bias\n",
      "WARNING:tensorflow:Value in checkpoint could not be found in the restored object: (root).layer_with_weights-4.kernel\n",
      "WARNING:tensorflow:Value in checkpoint could not be found in the restored object: (root).layer_with_weights-4.bias\n",
      "WARNING:tensorflow:Value in checkpoint could not be found in the restored object: (root).layer_with_weights-5.kernel\n",
      "WARNING:tensorflow:Value in checkpoint could not be found in the restored object: (root).layer_with_weights-5.bias\n",
      "WARNING:tensorflow:Value in checkpoint could not be found in the restored object: (root).layer_with_weights-6.kernel\n",
      "WARNING:tensorflow:Value in checkpoint could not be found in the restored object: (root).layer_with_weights-6.bias\n",
      "WARNING:tensorflow:Value in checkpoint could not be found in the restored object: (root).layer_with_weights-7.kernel\n",
      "WARNING:tensorflow:Value in checkpoint could not be found in the restored object: (root).layer_with_weights-7.bias\n",
      "WARNING:tensorflow:Value in checkpoint could not be found in the restored object: (root).optimizer.iter\n",
      "WARNING:tensorflow:Value in checkpoint could not be found in the restored object: (root).optimizer.decay\n",
      "WARNING:tensorflow:Value in checkpoint could not be found in the restored object: (root).optimizer.learning_rate\n",
      "WARNING:tensorflow:Value in checkpoint could not be found in the restored object: (root).optimizer.momentum\n",
      "WARNING:tensorflow:Detecting that an object or model or tf.train.Checkpoint is being deleted with unrestored values. See the following logs for the specific values in question. To silence these warnings, use `status.expect_partial()`. See https://www.tensorflow.org/api_docs/python/tf/train/Checkpoint#restorefor details about the status object returned by the restore function.\n",
      "WARNING:tensorflow:Value in checkpoint could not be found in the restored object: (root).layer_with_weights-0.kernel\n",
      "WARNING:tensorflow:Value in checkpoint could not be found in the restored object: (root).layer_with_weights-0.bias\n",
      "WARNING:tensorflow:Value in checkpoint could not be found in the restored object: (root).layer_with_weights-1.kernel\n",
      "WARNING:tensorflow:Value in checkpoint could not be found in the restored object: (root).layer_with_weights-1.bias\n",
      "WARNING:tensorflow:Value in checkpoint could not be found in the restored object: (root).layer_with_weights-2.kernel\n",
      "WARNING:tensorflow:Value in checkpoint could not be found in the restored object: (root).layer_with_weights-2.bias\n",
      "WARNING:tensorflow:Value in checkpoint could not be found in the restored object: (root).layer_with_weights-3.kernel\n",
      "WARNING:tensorflow:Value in checkpoint could not be found in the restored object: (root).layer_with_weights-3.bias\n",
      "WARNING:tensorflow:Value in checkpoint could not be found in the restored object: (root).layer_with_weights-4.kernel\n",
      "WARNING:tensorflow:Value in checkpoint could not be found in the restored object: (root).layer_with_weights-4.bias\n",
      "WARNING:tensorflow:Value in checkpoint could not be found in the restored object: (root).layer_with_weights-5.kernel\n",
      "WARNING:tensorflow:Value in checkpoint could not be found in the restored object: (root).layer_with_weights-5.bias\n",
      "WARNING:tensorflow:Value in checkpoint could not be found in the restored object: (root).layer_with_weights-6.kernel\n",
      "WARNING:tensorflow:Value in checkpoint could not be found in the restored object: (root).layer_with_weights-6.bias\n",
      "WARNING:tensorflow:Value in checkpoint could not be found in the restored object: (root).layer_with_weights-7.kernel\n",
      "WARNING:tensorflow:Value in checkpoint could not be found in the restored object: (root).layer_with_weights-7.bias\n",
      "WARNING:tensorflow:Value in checkpoint could not be found in the restored object: (root).optimizer.iter\n",
      "WARNING:tensorflow:Value in checkpoint could not be found in the restored object: (root).optimizer.decay\n",
      "WARNING:tensorflow:Value in checkpoint could not be found in the restored object: (root).optimizer.learning_rate\n",
      "WARNING:tensorflow:Value in checkpoint could not be found in the restored object: (root).optimizer.momentum\n",
      "WARNING:tensorflow:Detecting that an object or model or tf.train.Checkpoint is being deleted with unrestored values. See the following logs for the specific values in question. To silence these warnings, use `status.expect_partial()`. See https://www.tensorflow.org/api_docs/python/tf/train/Checkpoint#restorefor details about the status object returned by the restore function.\n",
      "WARNING:tensorflow:Value in checkpoint could not be found in the restored object: (root).layer_with_weights-0.kernel\n",
      "WARNING:tensorflow:Value in checkpoint could not be found in the restored object: (root).layer_with_weights-0.bias\n",
      "WARNING:tensorflow:Value in checkpoint could not be found in the restored object: (root).layer_with_weights-1.kernel\n",
      "WARNING:tensorflow:Value in checkpoint could not be found in the restored object: (root).layer_with_weights-1.bias\n",
      "WARNING:tensorflow:Value in checkpoint could not be found in the restored object: (root).layer_with_weights-2.kernel\n",
      "WARNING:tensorflow:Value in checkpoint could not be found in the restored object: (root).layer_with_weights-2.bias\n",
      "WARNING:tensorflow:Value in checkpoint could not be found in the restored object: (root).layer_with_weights-3.kernel\n",
      "WARNING:tensorflow:Value in checkpoint could not be found in the restored object: (root).layer_with_weights-3.bias\n",
      "WARNING:tensorflow:Value in checkpoint could not be found in the restored object: (root).layer_with_weights-4.kernel\n",
      "WARNING:tensorflow:Value in checkpoint could not be found in the restored object: (root).layer_with_weights-4.bias\n",
      "WARNING:tensorflow:Value in checkpoint could not be found in the restored object: (root).layer_with_weights-5.kernel\n",
      "WARNING:tensorflow:Value in checkpoint could not be found in the restored object: (root).layer_with_weights-5.bias\n",
      "WARNING:tensorflow:Value in checkpoint could not be found in the restored object: (root).optimizer.iter\n",
      "WARNING:tensorflow:Value in checkpoint could not be found in the restored object: (root).optimizer.beta_1\n",
      "WARNING:tensorflow:Value in checkpoint could not be found in the restored object: (root).optimizer.beta_2\n",
      "WARNING:tensorflow:Value in checkpoint could not be found in the restored object: (root).optimizer.decay\n",
      "WARNING:tensorflow:Value in checkpoint could not be found in the restored object: (root).optimizer.learning_rate\n",
      "WARNING:tensorflow:Value in checkpoint could not be found in the restored object: (root).optimizer's state 'm' for (root).layer_with_weights-0.kernel\n",
      "WARNING:tensorflow:Value in checkpoint could not be found in the restored object: (root).optimizer's state 'm' for (root).layer_with_weights-0.bias\n",
      "WARNING:tensorflow:Value in checkpoint could not be found in the restored object: (root).optimizer's state 'm' for (root).layer_with_weights-1.kernel\n",
      "WARNING:tensorflow:Value in checkpoint could not be found in the restored object: (root).optimizer's state 'm' for (root).layer_with_weights-1.bias\n",
      "WARNING:tensorflow:Value in checkpoint could not be found in the restored object: (root).optimizer's state 'm' for (root).layer_with_weights-2.kernel\n",
      "WARNING:tensorflow:Value in checkpoint could not be found in the restored object: (root).optimizer's state 'm' for (root).layer_with_weights-2.bias\n",
      "WARNING:tensorflow:Value in checkpoint could not be found in the restored object: (root).optimizer's state 'm' for (root).layer_with_weights-3.kernel\n",
      "WARNING:tensorflow:Value in checkpoint could not be found in the restored object: (root).optimizer's state 'm' for (root).layer_with_weights-3.bias\n",
      "WARNING:tensorflow:Value in checkpoint could not be found in the restored object: (root).optimizer's state 'm' for (root).layer_with_weights-4.kernel\n",
      "WARNING:tensorflow:Value in checkpoint could not be found in the restored object: (root).optimizer's state 'm' for (root).layer_with_weights-4.bias\n",
      "WARNING:tensorflow:Value in checkpoint could not be found in the restored object: (root).optimizer's state 'm' for (root).layer_with_weights-5.kernel\n",
      "WARNING:tensorflow:Value in checkpoint could not be found in the restored object: (root).optimizer's state 'm' for (root).layer_with_weights-5.bias\n",
      "WARNING:tensorflow:Value in checkpoint could not be found in the restored object: (root).optimizer's state 'v' for (root).layer_with_weights-0.kernel\n",
      "WARNING:tensorflow:Value in checkpoint could not be found in the restored object: (root).optimizer's state 'v' for (root).layer_with_weights-0.bias\n",
      "WARNING:tensorflow:Value in checkpoint could not be found in the restored object: (root).optimizer's state 'v' for (root).layer_with_weights-1.kernel\n",
      "WARNING:tensorflow:Value in checkpoint could not be found in the restored object: (root).optimizer's state 'v' for (root).layer_with_weights-1.bias\n",
      "WARNING:tensorflow:Value in checkpoint could not be found in the restored object: (root).optimizer's state 'v' for (root).layer_with_weights-2.kernel\n",
      "WARNING:tensorflow:Value in checkpoint could not be found in the restored object: (root).optimizer's state 'v' for (root).layer_with_weights-2.bias\n",
      "WARNING:tensorflow:Value in checkpoint could not be found in the restored object: (root).optimizer's state 'v' for (root).layer_with_weights-3.kernel\n",
      "WARNING:tensorflow:Value in checkpoint could not be found in the restored object: (root).optimizer's state 'v' for (root).layer_with_weights-3.bias\n",
      "WARNING:tensorflow:Value in checkpoint could not be found in the restored object: (root).optimizer's state 'v' for (root).layer_with_weights-4.kernel\n",
      "WARNING:tensorflow:Value in checkpoint could not be found in the restored object: (root).optimizer's state 'v' for (root).layer_with_weights-4.bias\n",
      "WARNING:tensorflow:Value in checkpoint could not be found in the restored object: (root).optimizer's state 'v' for (root).layer_with_weights-5.kernel\n",
      "WARNING:tensorflow:Value in checkpoint could not be found in the restored object: (root).optimizer's state 'v' for (root).layer_with_weights-5.bias\n"
     ]
    }
   ],
   "source": [
    "top3_models = random_search_tuner.get_best_models(num_models=3)\n",
    "best_model = top3_models[0]"
   ]
  },
  {
   "cell_type": "code",
   "execution_count": 46,
   "metadata": {},
   "outputs": [
    {
     "name": "stdout",
     "output_type": "stream",
     "text": [
      "Trial summary\n",
      "Hyperparameters:\n",
      "n_hidden: 5\n",
      "n_nuerons: 70\n",
      "learning_rate: 0.00041268008323824807\n",
      "optimizer: adam\n",
      "Score: 0.8754000067710876\n"
     ]
    }
   ],
   "source": [
    "best_trial = random_search_tuner.oracle.get_best_trials(num_trials=1)[0]\n",
    "best_trial.summary()"
   ]
  },
  {
   "cell_type": "code",
   "execution_count": 47,
   "metadata": {},
   "outputs": [
    {
     "data": {
      "text/plain": [
       "0.8754000067710876"
      ]
     },
     "execution_count": 47,
     "metadata": {},
     "output_type": "execute_result"
    }
   ],
   "source": [
    "best_trial.metrics.get_last_value(\"val_accuracy\")"
   ]
  },
  {
   "cell_type": "code",
   "execution_count": 48,
   "metadata": {},
   "outputs": [
    {
     "name": "stdout",
     "output_type": "stream",
     "text": [
      "Epoch 1/10\n",
      "1875/1875 [==============================] - 10s 5ms/step - loss: 0.3212 - accuracy: 0.8829\n",
      "Epoch 2/10\n",
      "1875/1875 [==============================] - 8s 4ms/step - loss: 0.3076 - accuracy: 0.8871\n",
      "Epoch 3/10\n",
      "1875/1875 [==============================] - 10s 5ms/step - loss: 0.3012 - accuracy: 0.8896\n",
      "Epoch 4/10\n",
      "1875/1875 [==============================] - 9s 5ms/step - loss: 0.2896 - accuracy: 0.8931\n",
      "Epoch 5/10\n",
      "1875/1875 [==============================] - 6s 3ms/step - loss: 0.2846 - accuracy: 0.8953\n",
      "Epoch 6/10\n",
      "1875/1875 [==============================] - 11s 6ms/step - loss: 0.2751 - accuracy: 0.8982\n",
      "Epoch 7/10\n",
      "1875/1875 [==============================] - 7s 4ms/step - loss: 0.2704 - accuracy: 0.8996\n",
      "Epoch 8/10\n",
      "1875/1875 [==============================] - 7s 4ms/step - loss: 0.2644 - accuracy: 0.9021\n",
      "Epoch 9/10\n",
      "1875/1875 [==============================] - 8s 4ms/step - loss: 0.2574 - accuracy: 0.9040\n",
      "Epoch 10/10\n",
      "1875/1875 [==============================] - 7s 4ms/step - loss: 0.2562 - accuracy: 0.9042\n",
      "313/313 [==============================] - 1s 2ms/step - loss: 0.3607 - accuracy: 0.8767\n"
     ]
    }
   ],
   "source": [
    "best_model.fit(X_train_full, y_train_full, epochs=10)\n",
    "test_loss, test_accuracy = best_model.evaluate(X_test, y_test)"
   ]
  },
  {
   "cell_type": "markdown",
   "metadata": {},
   "source": [
    "To fine-tune data preprocessing\n",
    "hyperparameters, or\n",
    "`model.fit()`\n",
    "arguments, such as the batch size.  \n",
    "you must subclass the\n",
    "`kt.HyperModel`\n",
    "class and define two methods,\n",
    "`build()`\n",
    "and\n",
    "`fit()`.  \n",
    "The\n",
    "`build()`\n",
    "method does the exact same thing as the\n",
    "`build_model()`\n",
    "function.  \n",
    "he\n",
    "`fit()`\n",
    "method may use hyperparameters to decide how to preprocess the data,\n",
    "tweak the batch size, and more"
   ]
  },
  {
   "cell_type": "code",
   "execution_count": 49,
   "metadata": {},
   "outputs": [],
   "source": [
    "class MyClassificationHyperModel(kt.HyperModel):\n",
    "    def build(self, hp):\n",
    "        return build_model(hp)\n",
    "\n",
    "    def fit(self, hp,  model, X, y, **kwargs):\n",
    "        if hp.Boolean('normalize'):\n",
    "            X = tf.keras.layers.Normalization()(X)\n",
    "        return model.fit(X, y, **kwargs)"
   ]
  },
  {
   "cell_type": "code",
   "execution_count": 50,
   "metadata": {},
   "outputs": [],
   "source": [
    "hyperband_tuner = kt.Hyperband(MyClassificationHyperModel(), objective='val_accuracy', seed=42,\n",
    "            max_epochs=10, factor=3, hyperband_iterations=2,\n",
    "    overwrite=True, directory=\"my_fashion_mnist\", project_name=\"hyperband\")"
   ]
  },
  {
   "cell_type": "code",
   "execution_count": 51,
   "metadata": {},
   "outputs": [
    {
     "name": "stdout",
     "output_type": "stream",
     "text": [
      "Trial 60 Complete [00h 01m 23s]\n",
      "val_accuracy: 0.8529999852180481\n",
      "\n",
      "Best val_accuracy So Far: 0.8708000183105469\n",
      "Total elapsed time: 00h 44m 59s\n",
      "INFO:tensorflow:Oracle triggered exit\n"
     ]
    }
   ],
   "source": [
    "root_logdir = Path(hyperband_tuner.project_dir) / \"tensorboard\"\n",
    "tensorboard_cb = tf.keras.callbacks.TensorBoard(root_logdir)\n",
    "early_stopping_cb = tf.keras.callbacks.EarlyStopping(patience=2)\n",
    "hyperband_tuner.search(X_train, y_train, epochs=10,\n",
    "                       validation_data=(X_valid, y_valid),\n",
    "                       callbacks=[early_stopping_cb, tensorboard_cb])"
   ]
  },
  {
   "cell_type": "code",
   "execution_count": 52,
   "metadata": {},
   "outputs": [
    {
     "name": "stdout",
     "output_type": "stream",
     "text": [
      "Trial 10 Complete [00h 00m 33s]\n",
      "val_accuracy: 0.8076000213623047\n",
      "\n",
      "Best val_accuracy So Far: 0.8628000020980835\n",
      "Total elapsed time: 00h 13m 31s\n",
      "INFO:tensorflow:Oracle triggered exit\n"
     ]
    }
   ],
   "source": [
    "bayesian_opt_tuner = kt.BayesianOptimization(\n",
    "    MyClassificationHyperModel(), objective=\"val_accuracy\", seed=42,\n",
    "    max_trials=10, alpha=1e-4, beta=2.6,\n",
    "    overwrite=True, directory=\"my_fashion_mnist\", project_name=\"bayesian_opt\")\n",
    "bayesian_opt_tuner.search(X_train, y_train, epochs=10,\n",
    "                          validation_data=(X_valid, y_valid),\n",
    "                          callbacks=[early_stopping_cb])"
   ]
  }
 ],
 "metadata": {
  "kernelspec": {
   "display_name": "Python 3.9.13 ('py39')",
   "language": "python",
   "name": "python3"
  },
  "language_info": {
   "codemirror_mode": {
    "name": "ipython",
    "version": 3
   },
   "file_extension": ".py",
   "mimetype": "text/x-python",
   "name": "python",
   "nbconvert_exporter": "python",
   "pygments_lexer": "ipython3",
   "version": "3.9.13"
  },
  "orig_nbformat": 4,
  "vscode": {
   "interpreter": {
    "hash": "32ea8bee040c0262fda3837df9bb0dbef9f2bbaf3c67025b7197e1c5d673cff9"
   }
  }
 },
 "nbformat": 4,
 "nbformat_minor": 2
}
